{
 "cells": [
  {
   "cell_type": "markdown",
   "id": "95ec1216",
   "metadata": {},
   "source": [
    "# 반복문! "
   ]
  },
  {
   "cell_type": "markdown",
   "id": "6ef35a04",
   "metadata": {},
   "source": [
    "#### while  # 조건식이 false 가 될때 가지 반복함 ! \n"
   ]
  },
  {
   "cell_type": "code",
   "execution_count": 6,
   "id": "a12fa895",
   "metadata": {},
   "outputs": [
    {
     "name": "stdout",
     "output_type": "stream",
     "text": [
      "1\n",
      "2\n",
      "3\n"
     ]
    }
   ],
   "source": [
    "number = 1 \n",
    "while number <=3 :\n",
    "    print(number)\n",
    "    number += 1"
   ]
  },
  {
   "cell_type": "code",
   "execution_count": 11,
   "id": "5804640f",
   "metadata": {},
   "outputs": [
    {
     "name": "stdout",
     "output_type": "stream",
     "text": [
      "1 파이썬 최고!\n",
      "2 파이썬 최고!\n",
      "3 파이썬 최고!\n",
      "4 파이썬 최고!\n",
      "5 파이썬 최고!\n",
      "6 파이썬 최고!\n",
      "7 파이썬 최고!\n",
      "8 파이썬 최고!\n",
      "9 파이썬 최고!\n",
      "10 파이썬 최고!\n",
      "11 파이썬 최고!\n",
      "12 파이썬 최고!\n",
      "13 파이썬 최고!\n"
     ]
    }
   ],
   "source": [
    "num =0\n",
    "while num <13:\n",
    "    print(f\"{num+1} 파이썬 최고!\")\n",
    "    num +=1"
   ]
  },
  {
   "cell_type": "code",
   "execution_count": 13,
   "id": "7659092f",
   "metadata": {},
   "outputs": [
    {
     "name": "stdout",
     "output_type": "stream",
     "text": [
      "1\n",
      "2\n",
      "3\n"
     ]
    }
   ],
   "source": [
    "number = 1\n",
    "while True:\n",
    "    print(number)\n",
    "    number +=1 \n",
    "    if number > 3:\n",
    "        break"
   ]
  },
  {
   "cell_type": "markdown",
   "id": "4113a878",
   "metadata": {},
   "source": [
    "## 두개의 정수를 받아서 그 합을 출력하는 무한루프 함수를 만들어보자\n",
    " - 단, 두 정수를 모두 0으로 받을 경우, 게임이 종료되도록 만들어보자"
   ]
  },
  {
   "cell_type": "code",
   "execution_count": 17,
   "id": "10aa5246",
   "metadata": {},
   "outputs": [
    {
     "name": "stdout",
     "output_type": "stream",
     "text": [
      "첫번째 정수를 입력해주세요 >>00\n",
      "두번째 정수를 입력해주세요 >>0\n",
      "두정수 모두 0을 입력받아 종료\n"
     ]
    }
   ],
   "source": [
    "while True:\n",
    "    num1 = int(input(\"첫번째 정수를 입력해주세요 >>\"))\n",
    "    num2 = int(input(\"두번째 정수를 입력해주세요 >>\"))\n",
    "    if (num1 == 0) and (num2 == 0):\n",
    "        print(\"두정수 모두 0을 입력받아 종료\")\n",
    "        break\n",
    "    print(f\"두정수의 합은 {num1+num2} 입니다~\")\n",
    "    "
   ]
  },
  {
   "cell_type": "markdown",
   "id": "1b0823e8",
   "metadata": {},
   "source": [
    "### 다이어트 관리 프로그램 \n",
    "- 현재 몸무게를 정수로 받습니다.\n",
    "- 목표 몸무게를 정수로 받습니다.\n",
    "- 매일 감량한 몸무게를 입력받아서, 목표 몸무게에 도달하면 \"목표 달성\" 출력한 뒤 프로그램이 종료되는 소프트웨어를 만들어봅시다."
   ]
  },
  {
   "cell_type": "code",
   "execution_count": 7,
   "id": "9c059481",
   "metadata": {},
   "outputs": [
    {
     "name": "stdout",
     "output_type": "stream",
     "text": [
      "현재 몸무게가 몇킬로에요 ? :80\n",
      "목표로 하는 몸무게를 입력해주세요 : 65\n",
      "매일 감량할 몸무게를 입력하세요 : 20\n",
      "1일차 현재 몸무게 60\n",
      "목표 달성 ! \n"
     ]
    }
   ],
   "source": [
    "bekg = int(input(\"현재 몸무게가 몇킬로에요 ? :\"))\n",
    "afkg = int(input(\"목표로 하는 몸무게를 입력해주세요 : \"))\n",
    "days = 1\n",
    "while True:\n",
    "    if bekg <= afkg:\n",
    "        print(\"목표 달성 ! \")\n",
    "        break\n",
    "    else:\n",
    "        kg = int(input(\"매일 감량할 몸무게를 입력하세요 : \"))\n",
    "        bekg -= kg\n",
    "        print(f\"{days}일차 현재 몸무게 {bekg}\")\n",
    "        days += 1\n"
   ]
  },
  {
   "cell_type": "code",
   "execution_count": 8,
   "id": "2e188103",
   "metadata": {},
   "outputs": [
    {
     "name": "stdout",
     "output_type": "stream",
     "text": [
      "현재 몸무게 : 80\n",
      "현재 몸무게 : 60\n",
      "이번주 감량한 몸무게 : 25\n",
      "목표 몸무게 달성했습니다~\n"
     ]
    }
   ],
   "source": [
    "weight = int(input(\"현재 몸무게 : \"))\n",
    "goal = int(input(\"현재 몸무게 : \"))\n",
    "\n",
    "while weight > goal:\n",
    "    lose = int(input(\"이번주 감량한 몸무게 : \"))\n",
    "    weight -= lose\n",
    "\n",
    "print(\"목표 몸무게 달성했습니다~\")"
   ]
  },
  {
   "cell_type": "markdown",
   "id": "4dd07fd9",
   "metadata": {},
   "source": [
    "### 업다운 게임\n",
    "- 컴퓨터는 1부터 100사이의 임의의 정수 k를 정합니다\n",
    "- 플레이어로부터 정수를 입력받아 , 그 숫자가 k 보다 큰지, 작은지를 출력합니다\n",
    "- 플레이어가 k를 맞추면, 몇번째 시도만에 k를 만추엇는지 출력하고, 프로그램을 종료합니다. "
   ]
  },
  {
   "cell_type": "code",
   "execution_count": 146,
   "id": "741cfc9c",
   "metadata": {},
   "outputs": [
    {
     "name": "stdout",
     "output_type": "stream",
     "text": [
      "정수! 만입력하세요 \n",
      "정수! 만입력하세요 \n",
      "정수! 만입력하세요 \n",
      "정수 입력 : 10\n",
      "업\n",
      "정수 입력 : 50\n",
      "업\n",
      "정수 입력 : 60\n",
      "업\n",
      "정수 입력 : 80\n",
      "다운\n",
      "정수 입력 : 75\n",
      "업\n",
      "정수 입력 : 76\n",
      "6번 만에 정답입니다\n"
     ]
    }
   ],
   "source": [
    "import random # 내코딩\n",
    "k = random.randint(1,100)\n",
    "count = 0\n",
    "while True:\n",
    "    try:\n",
    "        a = int(input(\"정수 입력 : \"))\n",
    "        count += 1\n",
    "        if a == k:\n",
    "            print(f\"{count}번 만에 정답입니다\")\n",
    "            break\n",
    "        else:\n",
    "            if a < k:\n",
    "                print(\"업\")\n",
    "            else:\n",
    "                print(\"다운\")\n",
    "    except:\n",
    "        print(\"정수! 만입력하세요 \")"
   ]
  },
  {
   "cell_type": "code",
   "execution_count": 22,
   "id": "b90be589",
   "metadata": {},
   "outputs": [
    {
     "name": "stdout",
     "output_type": "stream",
     "text": [
      "정수 입력 : 4\n",
      "up\n",
      "정수 입력 : 5\n",
      "up\n",
      "정수 입력 : 6\n",
      "up\n",
      "정수 입력 : 7\n",
      "up\n",
      "정수 입력 : 50\n",
      "up\n",
      "정수 입력 : 60\n",
      "up\n",
      "정수 입력 : 70\n",
      "up\n",
      "정수 입력 : 80\n",
      "up\n",
      "정수 입력 : 90\n",
      "up\n",
      "정수 입력 : 99\n",
      "up\n",
      "정수 입력 : 100\n",
      "정답입니다. 11번 걸렷습니다\n"
     ]
    }
   ],
   "source": [
    "import random  # 강사님 코딩\n",
    "k = random.randint(1,100)\n",
    "count = 0\n",
    "while True:\n",
    "    a= int(input(\"정수 입력 : \"))\n",
    "    count += 1\n",
    "    \n",
    "    if k > a:\n",
    "        print(\"up\")\n",
    "    elif k<a:\n",
    "        print(\"down\")\n",
    "    else:\n",
    "        break\n",
    "print(f\"정답입니다. {count}번 걸렷습니다\")\n",
    "        "
   ]
  },
  {
   "cell_type": "markdown",
   "id": "38ecf1be",
   "metadata": {},
   "source": [
    "### for문"
   ]
  },
  {
   "cell_type": "code",
   "execution_count": 23,
   "id": "1dd2fbc7",
   "metadata": {},
   "outputs": [
    {
     "name": "stdout",
     "output_type": "stream",
     "text": [
      "햄버거\n",
      "치킨\n",
      "피자\n"
     ]
    }
   ],
   "source": [
    "list_food = [\"햄버거\",\"치킨\",\"피자\"]\n",
    "for food in list_food:\n",
    "    print(food)"
   ]
  },
  {
   "cell_type": "code",
   "execution_count": 26,
   "id": "ff329013",
   "metadata": {},
   "outputs": [
    {
     "name": "stdout",
     "output_type": "stream",
     "text": [
      "오늘 점심은 족발로 정했어 !\n",
      "오늘 점심은 곱창볶음로 정했어 !\n",
      "오늘 점심은 꽈베기로 정했어 !\n"
     ]
    }
   ],
   "source": [
    "list = [\"족발\",\"곱창볶음\",\"꽈베기\"]\n",
    "for food in list:\n",
    "    print(f\"오늘 점심은 {food}로 정했어 !\")"
   ]
  },
  {
   "cell_type": "code",
   "execution_count": 27,
   "id": "8ec8ee00",
   "metadata": {},
   "outputs": [
    {
     "name": "stdout",
     "output_type": "stream",
     "text": [
      "안\n",
      "녕\n",
      "하\n",
      "세\n",
      "요\n"
     ]
    }
   ],
   "source": [
    "sayHello = \"안녕하세요\"\n",
    "for i in sayHello:\n",
    "    print(i)"
   ]
  },
  {
   "cell_type": "code",
   "execution_count": 36,
   "id": "0f824a4e",
   "metadata": {},
   "outputs": [
    {
     "name": "stdout",
     "output_type": "stream",
     "text": [
      "----------1단-------------\n",
      "2 * 1 = 2\n",
      "2 * 2 = 4\n",
      "2 * 3 = 6\n",
      "2 * 4 = 8\n",
      "2 * 5 = 10\n",
      "2 * 6 = 12\n",
      "2 * 7 = 14\n",
      "2 * 8 = 16\n",
      "2 * 9 = 18\n",
      "----------2단-------------\n",
      "3 * 1 = 3\n",
      "3 * 2 = 6\n",
      "3 * 3 = 9\n",
      "3 * 4 = 12\n",
      "3 * 5 = 15\n",
      "3 * 6 = 18\n",
      "3 * 7 = 21\n",
      "3 * 8 = 24\n",
      "3 * 9 = 27\n",
      "----------3단-------------\n",
      "4 * 1 = 4\n",
      "4 * 2 = 8\n",
      "4 * 3 = 12\n",
      "4 * 4 = 16\n",
      "4 * 5 = 20\n",
      "4 * 6 = 24\n",
      "4 * 7 = 28\n",
      "4 * 8 = 32\n",
      "4 * 9 = 36\n",
      "----------4단-------------\n",
      "5 * 1 = 5\n",
      "5 * 2 = 10\n",
      "5 * 3 = 15\n",
      "5 * 4 = 20\n",
      "5 * 5 = 25\n",
      "5 * 6 = 30\n",
      "5 * 7 = 35\n",
      "5 * 8 = 40\n",
      "5 * 9 = 45\n",
      "----------5단-------------\n",
      "6 * 1 = 6\n",
      "6 * 2 = 12\n",
      "6 * 3 = 18\n",
      "6 * 4 = 24\n",
      "6 * 5 = 30\n",
      "6 * 6 = 36\n",
      "6 * 7 = 42\n",
      "6 * 8 = 48\n",
      "6 * 9 = 54\n",
      "----------6단-------------\n",
      "7 * 1 = 7\n",
      "7 * 2 = 14\n",
      "7 * 3 = 21\n",
      "7 * 4 = 28\n",
      "7 * 5 = 35\n",
      "7 * 6 = 42\n",
      "7 * 7 = 49\n",
      "7 * 8 = 56\n",
      "7 * 9 = 63\n",
      "----------7단-------------\n",
      "8 * 1 = 8\n",
      "8 * 2 = 16\n",
      "8 * 3 = 24\n",
      "8 * 4 = 32\n",
      "8 * 5 = 40\n",
      "8 * 6 = 48\n",
      "8 * 7 = 56\n",
      "8 * 8 = 64\n",
      "8 * 9 = 72\n",
      "----------8단-------------\n",
      "9 * 1 = 9\n",
      "9 * 2 = 18\n",
      "9 * 3 = 27\n",
      "9 * 4 = 36\n",
      "9 * 5 = 45\n",
      "9 * 6 = 54\n",
      "9 * 7 = 63\n",
      "9 * 8 = 72\n",
      "9 * 9 = 81\n"
     ]
    }
   ],
   "source": [
    "for i in range(1,9):\n",
    "    print(f\"----------{i+1}단-------------\")\n",
    "    for j in range(9):\n",
    "        print(f\"{i+1} * {j+1} = {(i+1) * (j+1)}\")\n",
    "        \n",
    "        \n"
   ]
  },
  {
   "cell_type": "code",
   "execution_count": 29,
   "id": "69b5e022",
   "metadata": {},
   "outputs": [
    {
     "name": "stdout",
     "output_type": "stream",
     "text": [
      "파이썬 최고\n",
      "파이썬 최고\n",
      "파이썬 최고\n",
      "파이썬 최고\n",
      "파이썬 최고\n",
      "파이썬 최고\n",
      "파이썬 최고\n",
      "파이썬 최고\n",
      "파이썬 최고\n",
      "파이썬 최고\n",
      "파이썬 최고\n",
      "파이썬 최고\n",
      "파이썬 최고\n"
     ]
    }
   ],
   "source": [
    "for i in range(13):\n",
    "    print(\"파이썬 최고\")"
   ]
  },
  {
   "cell_type": "markdown",
   "id": "2f9dedae",
   "metadata": {},
   "source": [
    "### 1부터 100가지의 합을 구해보세요"
   ]
  },
  {
   "cell_type": "code",
   "execution_count": 37,
   "id": "18d0610d",
   "metadata": {},
   "outputs": [
    {
     "name": "stdout",
     "output_type": "stream",
     "text": [
      "5050\n"
     ]
    }
   ],
   "source": [
    "sum = 0\n",
    "for i in range(100): #0~99 \n",
    "    sum += i+1 # 1~100\n",
    "print(sum)"
   ]
  },
  {
   "cell_type": "code",
   "execution_count": 41,
   "id": "b1c4a5a0",
   "metadata": {},
   "outputs": [
    {
     "name": "stdout",
     "output_type": "stream",
     "text": [
      "1683\n"
     ]
    }
   ],
   "source": [
    "sum = 0\n",
    "for i in range(100): #0~99 \n",
    "    if (i+1)%3 == 0: #3으로 나눈 나머지가 0일때 \n",
    "        sum += i+1 # 1~100\n",
    "print(sum)"
   ]
  },
  {
   "cell_type": "markdown",
   "id": "04fed43e",
   "metadata": {},
   "source": [
    "### 구구단"
   ]
  },
  {
   "cell_type": "code",
   "execution_count": 44,
   "id": "b5ea5621",
   "metadata": {},
   "outputs": [
    {
     "name": "stdout",
     "output_type": "stream",
     "text": [
      "----------2단----------\n",
      "2 * 2 = 4\n",
      "2 * 3 = 6\n",
      "2 * 4 = 8\n",
      "2 * 5 = 10\n",
      "2 * 6 = 12\n",
      "2 * 7 = 14\n",
      "2 * 8 = 16\n",
      "2 * 9 = 18\n",
      "----------3단----------\n",
      "3 * 2 = 6\n",
      "3 * 3 = 9\n",
      "3 * 4 = 12\n",
      "3 * 5 = 15\n",
      "3 * 6 = 18\n",
      "3 * 7 = 21\n",
      "3 * 8 = 24\n",
      "3 * 9 = 27\n",
      "----------4단----------\n",
      "4 * 2 = 8\n",
      "4 * 3 = 12\n",
      "4 * 4 = 16\n",
      "4 * 5 = 20\n",
      "4 * 6 = 24\n",
      "4 * 7 = 28\n",
      "4 * 8 = 32\n",
      "4 * 9 = 36\n",
      "----------5단----------\n",
      "5 * 2 = 10\n",
      "5 * 3 = 15\n",
      "5 * 4 = 20\n",
      "5 * 5 = 25\n",
      "5 * 6 = 30\n",
      "5 * 7 = 35\n",
      "5 * 8 = 40\n",
      "5 * 9 = 45\n",
      "----------6단----------\n",
      "6 * 2 = 12\n",
      "6 * 3 = 18\n",
      "6 * 4 = 24\n",
      "6 * 5 = 30\n",
      "6 * 6 = 36\n",
      "6 * 7 = 42\n",
      "6 * 8 = 48\n",
      "6 * 9 = 54\n",
      "----------7단----------\n",
      "7 * 2 = 14\n",
      "7 * 3 = 21\n",
      "7 * 4 = 28\n",
      "7 * 5 = 35\n",
      "7 * 6 = 42\n",
      "7 * 7 = 49\n",
      "7 * 8 = 56\n",
      "7 * 9 = 63\n",
      "----------8단----------\n",
      "8 * 2 = 16\n",
      "8 * 3 = 24\n",
      "8 * 4 = 32\n",
      "8 * 5 = 40\n",
      "8 * 6 = 48\n",
      "8 * 7 = 56\n",
      "8 * 8 = 64\n",
      "8 * 9 = 72\n",
      "----------9단----------\n",
      "9 * 2 = 18\n",
      "9 * 3 = 27\n",
      "9 * 4 = 36\n",
      "9 * 5 = 45\n",
      "9 * 6 = 54\n",
      "9 * 7 = 63\n",
      "9 * 8 = 72\n",
      "9 * 9 = 81\n"
     ]
    }
   ],
   "source": [
    "for i in range(2,10):\n",
    "    print(f\"----------{i}단----------\")\n",
    "    for j in range(2,10):\n",
    "        print(f\"{i} * {j} = {i * j}\")"
   ]
  },
  {
   "cell_type": "markdown",
   "id": "abead278",
   "metadata": {},
   "source": [
    "#### 카카오 개발자 채용 코딩 테스트 Lv.1"
   ]
  },
  {
   "cell_type": "code",
   "execution_count": 97,
   "id": "86b9531d",
   "metadata": {},
   "outputs": [
    {
     "data": {
      "text/plain": [
       "8"
      ]
     },
     "execution_count": 97,
     "metadata": {},
     "output_type": "execute_result"
    }
   ],
   "source": [
    "a = \"dsadagfa\"\n",
    "len(a)\n"
   ]
  },
  {
   "cell_type": "code",
   "execution_count": 110,
   "id": "f10b5d9b",
   "metadata": {},
   "outputs": [
    {
     "data": {
      "text/plain": [
       "'65'"
      ]
     },
     "execution_count": 110,
     "metadata": {},
     "output_type": "execute_result"
    }
   ],
   "source": []
  },
  {
   "cell_type": "code",
   "execution_count": 167,
   "id": "ad0ab4e3",
   "metadata": {},
   "outputs": [
    {
     "name": "stdout",
     "output_type": "stream",
     "text": [
      "아이디를 입력해주세요 : abcdefghijklmn.p\n",
      "abcdefghijklmn\n"
     ]
    }
   ],
   "source": [
    "new_id = input(\"아이디를 입력해주세요 : \")  \n",
    " \n",
    " # 1단계\n",
    "new_id = new_id.lower()\n",
    " # 2단계\n",
    "allowed = ['a','b','c','d','e','f','g','h','i','j','k','l','m','n','o','p','q','r','s','t','u','v','w','x','y','z','1','2','3','4','5','6','7','8','9','0','-','_','.']\n",
    "\n",
    "for i in new_id:\n",
    "    if i not in allowed:\n",
    "        new_id = new_id.replace(i,\"\")\n",
    "# 3단계 \n",
    "while \"..\" in new_id:\n",
    "    if \"..\" in new_id:\n",
    "        new_id = new_id.replace(\"..\",\".\")\n",
    "\n",
    "# 4단계\n",
    "# if new_id != \"\" and len(new_id) > 2:\n",
    "#     while new_id[0] == \".\":  \n",
    "#             new_id =  new_id[1:]\n",
    "#     while new_id[-1] == \".\":\n",
    "#             new_id = new_id[:-2]\n",
    "# elif len(new_id) == 1 and new_id[0] == \".\":\n",
    "#     new_id = \"\"\n",
    "try:\n",
    "    while new_id[0]==\".\" :\n",
    "        new_id = new_id[1:]\n",
    "    while new_id[-1]==\".\" :\n",
    "        new_id = new_id[:-1]\n",
    "except:\n",
    "    new_id = \"\"\n",
    "\n",
    "#5단계    \n",
    "if new_id == \"\":\n",
    "    new_id = \"a\"\n",
    "    #6단계 \n",
    "if len(new_id) > 15:\n",
    "    new_id = new_id[:15]\n",
    "    while new_id[-1] == \".\" :\n",
    "        new_id = new_id[:-1]\n",
    "\n",
    "#7단계\n",
    "while len(new_id) < 3:    \n",
    "        new_id =  new_id+new_id[-1]\n",
    "\n",
    "print(new_id)"
   ]
  },
  {
   "cell_type": "code",
   "execution_count": 176,
   "id": "5b0a17bb",
   "metadata": {},
   "outputs": [
    {
     "name": "stdout",
     "output_type": "stream",
     "text": [
      "아이디를 적어주세요 : abcdefghijklmn.p\n",
      "15\n",
      "abcdefgijklmn.p\n"
     ]
    }
   ],
   "source": [
    "new_id = input(\"아이디를 적어주세요 : \")\n",
    "#1단계\n",
    "new_id = new_id.lower()\n",
    "\n",
    "#2단계\n",
    "allowed = ['a','b','c','d','e','f','g','i','j','k','l','m','n','o','p','q','r','s','t','u',\n",
    "          'v','w','x','y','z',\"0\",\"1\",\"2\",\"3\",\"4\",\"5\",\"6\",\"7\",\"8\",\"9\",\"-\",\"_\",\".\"]\n",
    "new_id2 = new_id\n",
    "for i in new_id2:\n",
    "    if i not in allowed:\n",
    "        new_id = new_id.replace(i, \"\")\n",
    "        \n",
    "        \n",
    "#3단계\n",
    "while \"..\" in new_id:\n",
    "    if \"..\" in new_id:\n",
    "        new_id = new_id.replace(\"..\",\".\")\n",
    "\n",
    "\n",
    "#4단계\n",
    "\n",
    "try:\n",
    "    if new_id[0]==\".\":\n",
    "        new_id=new_id[1:]\n",
    "    else:\n",
    "        pass\n",
    "\n",
    "    if new_id[-1]==\".\":\n",
    "        new_id=new_id[:-1]\n",
    "    else:\n",
    "        pass\n",
    "except:\n",
    "    pass\n",
    "\n",
    "    \n",
    "#5단계\n",
    "\n",
    "if new_id == \"\":\n",
    "    new_id=\"a\"\n",
    "    \n",
    "else:\n",
    "    pass\n",
    "\n",
    "#6단계\n",
    "print(len(new_id))\n",
    "\n",
    "if len(new_id) > 15:\n",
    "    new_id=new_id[:15]\n",
    "    while new_id[-1] == \".\":\n",
    "        new_id = new_id[:-1]\n",
    "else:\n",
    "    pass\n",
    "\n",
    "    \n",
    "#7단계\n",
    "while len(new_id)<3 :\n",
    "    new_id=new_id + new_id[-1]\n",
    "    \n",
    "\n",
    "    \n",
    "print(new_id)\n"
   ]
  },
  {
   "cell_type": "code",
   "execution_count": 139,
   "id": "a064445b",
   "metadata": {
    "scrolled": true
   },
   "outputs": [
    {
     "name": "stdout",
     "output_type": "stream",
     "text": [
      "0.14285714285714285\n",
      "0.16666666666666666\n",
      "0.2\n",
      "0.25\n",
      "0.3333333333333333\n",
      "0.5\n",
      "1.0\n"
     ]
    },
    {
     "ename": "ZeroDivisionError",
     "evalue": "division by zero",
     "output_type": "error",
     "traceback": [
      "\u001b[1;31m---------------------------------------------------------------------------\u001b[0m",
      "\u001b[1;31mZeroDivisionError\u001b[0m                         Traceback (most recent call last)",
      "Input \u001b[1;32mIn [139]\u001b[0m, in \u001b[0;36m<cell line: 1>\u001b[1;34m()\u001b[0m\n\u001b[0;32m      1\u001b[0m \u001b[38;5;28;01mfor\u001b[39;00m i \u001b[38;5;129;01min\u001b[39;00m \u001b[38;5;28mrange\u001b[39m(\u001b[38;5;241m10\u001b[39m):\n\u001b[1;32m----> 2\u001b[0m     \u001b[38;5;28mprint\u001b[39m(\u001b[38;5;241;43m1\u001b[39;49m\u001b[38;5;241;43m/\u001b[39;49m\u001b[43m(\u001b[49m\u001b[38;5;241;43m7\u001b[39;49m\u001b[38;5;241;43m-\u001b[39;49m\u001b[43mi\u001b[49m\u001b[43m)\u001b[49m)\n",
      "\u001b[1;31mZeroDivisionError\u001b[0m: division by zero"
     ]
    }
   ],
   "source": [
    "for i in range(10):\n",
    "    print(1/(7-i))"
   ]
  },
  {
   "cell_type": "code",
   "execution_count": 142,
   "id": "2c4838e4",
   "metadata": {},
   "outputs": [
    {
     "name": "stdout",
     "output_type": "stream",
     "text": [
      "안됩니다\n"
     ]
    }
   ],
   "source": [
    "try:\n",
    "    print(1/0)\n",
    "except:\n",
    "    print(\"안됩니다\")"
   ]
  },
  {
   "cell_type": "code",
   "execution_count": 165,
   "id": "24d04c41",
   "metadata": {},
   "outputs": [
    {
     "name": "stdout",
     "output_type": "stream",
     "text": [
      "3의 배수를 입력하세요 : 6\n",
      "6\n"
     ]
    }
   ],
   "source": [
    "try:\n",
    "    x = int(input(\"3의 배수를 입력하세요 : \"))\n",
    "    if x%3 != 0:\n",
    "        raise Exception(\"3의 배수가 아닙니다.\")\n",
    "    else:\n",
    "        print(x)\n",
    "except:\n",
    "    print(\"숫자로 입력하세요 \")"
   ]
  },
  {
   "cell_type": "markdown",
   "id": "b22168be",
   "metadata": {},
   "source": [
    "1. try. except\n",
    "2. reise Exception\n",
    "3. excpt Exception ae e"
   ]
  },
  {
   "cell_type": "code",
   "execution_count": 166,
   "id": "dc5999b3",
   "metadata": {},
   "outputs": [
    {
     "name": "stdout",
     "output_type": "stream",
     "text": [
      "0.14285714285714285\n",
      "0.16666666666666666\n",
      "0.2\n",
      "0.25\n",
      "0.3333333333333333\n",
      "0.5\n",
      "1.0\n",
      "에러 떳슴다\n",
      "-1.0\n",
      "-0.5\n"
     ]
    }
   ],
   "source": [
    "for i in range(10):\n",
    "    try:\n",
    "        print(1/(7-i))\n",
    "    except:\n",
    "        print(\"에러 떳슴다\")"
   ]
  },
  {
   "cell_type": "code",
   "execution_count": 6,
   "id": "0c846bd6",
   "metadata": {},
   "outputs": [
    {
     "name": "stdout",
     "output_type": "stream",
     "text": [
      "정수 입력 : 101\n",
      "int 에 문자열을 넣지마세요\n",
      "정답입니다. 0번 걸렷습니다\n"
     ]
    }
   ],
   "source": [
    "import random  # 강사님 코딩\n",
    "k = random.randint(1,100)\n",
    "count = 0\n",
    "while True:\n",
    "    try:\n",
    "        a= int(input(\"정수 입력 : \"))\n",
    "        if(a<1)or(a>100):\n",
    "            raise Exception(\"1에서 100 사이의 숫자를 입력하세요 ! \")\n",
    "        count += 1\n",
    "        if k > a:\n",
    "            print(\"up\")\n",
    "        elif k<a:\n",
    "            print(\"down\")\n",
    "        else:\n",
    "            \n",
    "            break\n",
    "            \n",
    "    except:\n",
    "        print(\"int 에 문자열을 넣지마세요\")\n",
    "        break\n",
    "print(f\"정답입니다. {count}번 걸렷습니다\")"
   ]
  },
  {
   "cell_type": "code",
   "execution_count": 4,
   "id": "f70b06fe",
   "metadata": {},
   "outputs": [
    {
     "name": "stdout",
     "output_type": "stream",
     "text": [
      "정수를 입력하세요 : a\n",
      "정수만 입력하세요 \n",
      "정수를 입력하세요 : e\n",
      "정수만 입력하세요 \n",
      "정수를 입력하세요 : r\n",
      "정수만 입력하세요 \n",
      "정수를 입력하세요 : tt\n",
      "정수만 입력하세요 \n",
      "정수를 입력하세요 : ds\n",
      "정수만 입력하세요 \n",
      "정수를 입력하세요 : f\n",
      "정수만 입력하세요 \n",
      "정수를 입력하세요 : sar\n",
      "정수만 입력하세요 \n",
      "정수를 입력하세요 : ta\n",
      "정수만 입력하세요 \n",
      "정수를 입력하세요 : \n",
      "정수만 입력하세요 \n",
      "정수를 입력하세요 : a\n",
      "정수만 입력하세요 \n",
      "정수를 입력하세요 : 5\n",
      "5\n"
     ]
    }
   ],
   "source": [
    "a = \"s\"\n",
    "while type(a) != int:\n",
    "    try:\n",
    "        a = int(input(\"정수를 입력하세요 : \"))\n",
    "        print(a)\n",
    "    except:\n",
    "        print(\"정수만 입력하세요 \")"
   ]
  },
  {
   "cell_type": "code",
   "execution_count": 5,
   "id": "3710cacc",
   "metadata": {},
   "outputs": [
    {
     "name": "stdout",
     "output_type": "stream",
     "text": [
      "정수를 입력하세요 : 5\n",
      "5\n"
     ]
    }
   ],
   "source": [
    "while True:\n",
    "    try:\n",
    "        a = int(input(\"정수를 입력하세요 : \"))\n",
    "        print(a)\n",
    "        break\n",
    "    except:\n",
    "        print(\"정수만 입력하세요 \")\n",
    "    "
   ]
  },
  {
   "cell_type": "code",
   "execution_count": null,
   "id": "aa1ee790",
   "metadata": {},
   "outputs": [],
   "source": []
  },
  {
   "cell_type": "code",
   "execution_count": null,
   "id": "d49df7ad",
   "metadata": {},
   "outputs": [],
   "source": []
  },
  {
   "cell_type": "code",
   "execution_count": null,
   "id": "ae80929a",
   "metadata": {},
   "outputs": [],
   "source": []
  },
  {
   "cell_type": "code",
   "execution_count": null,
   "id": "1b31f6ed",
   "metadata": {},
   "outputs": [],
   "source": []
  },
  {
   "cell_type": "code",
   "execution_count": null,
   "id": "1c81523e",
   "metadata": {},
   "outputs": [],
   "source": []
  },
  {
   "cell_type": "code",
   "execution_count": null,
   "id": "6b7bdff0",
   "metadata": {},
   "outputs": [],
   "source": []
  },
  {
   "cell_type": "code",
   "execution_count": null,
   "id": "abde21b9",
   "metadata": {},
   "outputs": [],
   "source": []
  },
  {
   "cell_type": "code",
   "execution_count": null,
   "id": "4fd43ad1",
   "metadata": {},
   "outputs": [],
   "source": []
  },
  {
   "cell_type": "code",
   "execution_count": null,
   "id": "e8111512",
   "metadata": {},
   "outputs": [],
   "source": []
  },
  {
   "cell_type": "code",
   "execution_count": null,
   "id": "0152e746",
   "metadata": {},
   "outputs": [],
   "source": []
  },
  {
   "cell_type": "code",
   "execution_count": null,
   "id": "a0da42c5",
   "metadata": {},
   "outputs": [],
   "source": []
  },
  {
   "cell_type": "code",
   "execution_count": null,
   "id": "dc40d24b",
   "metadata": {},
   "outputs": [],
   "source": []
  },
  {
   "cell_type": "code",
   "execution_count": null,
   "id": "89c83d7b",
   "metadata": {},
   "outputs": [],
   "source": []
  },
  {
   "cell_type": "code",
   "execution_count": null,
   "id": "3eec1e96",
   "metadata": {},
   "outputs": [],
   "source": []
  },
  {
   "cell_type": "code",
   "execution_count": null,
   "id": "fc23d82f",
   "metadata": {},
   "outputs": [],
   "source": []
  },
  {
   "cell_type": "code",
   "execution_count": null,
   "id": "51db71f6",
   "metadata": {},
   "outputs": [],
   "source": []
  },
  {
   "cell_type": "code",
   "execution_count": null,
   "id": "00b2fb00",
   "metadata": {},
   "outputs": [],
   "source": []
  },
  {
   "cell_type": "code",
   "execution_count": null,
   "id": "6407605b",
   "metadata": {},
   "outputs": [],
   "source": []
  }
 ],
 "metadata": {
  "kernelspec": {
   "display_name": "Python 3 (ipykernel)",
   "language": "python",
   "name": "python3"
  },
  "language_info": {
   "codemirror_mode": {
    "name": "ipython",
    "version": 3
   },
   "file_extension": ".py",
   "mimetype": "text/x-python",
   "name": "python",
   "nbconvert_exporter": "python",
   "pygments_lexer": "ipython3",
   "version": "3.9.12"
  }
 },
 "nbformat": 4,
 "nbformat_minor": 5
}
