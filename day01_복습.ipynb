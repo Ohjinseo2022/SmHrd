{
 "cells": [
  {
   "cell_type": "markdown",
   "id": "55ea4e18",
   "metadata": {},
   "source": [
    "### 복습시간"
   ]
  },
  {
   "cell_type": "code",
   "execution_count": 2,
   "id": "32673aae",
   "metadata": {
    "scrolled": true
   },
   "outputs": [
    {
     "name": "stdout",
     "output_type": "stream",
     "text": [
      "Hello Python\n"
     ]
    }
   ],
   "source": [
    "print(\"Hello Python\")"
   ]
  },
  {
   "cell_type": "markdown",
   "id": "62b07523",
   "metadata": {},
   "source": [
    "# #의 \n",
    "## 갯수에 따라서 \n",
    "### 크기를 \n",
    "#### 정해줄수 있음"
   ]
  },
  {
   "cell_type": "markdown",
   "id": "5df03683",
   "metadata": {},
   "source": [
    "- Bulleted List 1\n",
    "    - Bulleted List 1"
   ]
  },
  {
   "cell_type": "markdown",
   "id": "82011f50",
   "metadata": {},
   "source": [
    "    - Bulleted List 3"
   ]
  },
  {
   "cell_type": "markdown",
   "id": "f642e7a8",
   "metadata": {},
   "source": [
    "1. Numbered List\n",
    "    1. Numbered List\n",
    "        1. Numbered List\n",
    "            1. Numbered List\n",
    "                1. Numbered List"
   ]
  },
  {
   "cell_type": "code",
   "execution_count": 4,
   "id": "f0dc33aa",
   "metadata": {},
   "outputs": [
    {
     "data": {
      "text/plain": [
       "int"
      ]
     },
     "execution_count": 4,
     "metadata": {},
     "output_type": "execute_result"
    }
   ],
   "source": [
    "type(1)"
   ]
  },
  {
   "cell_type": "code",
   "execution_count": 5,
   "id": "7929aa6b",
   "metadata": {},
   "outputs": [
    {
     "data": {
      "text/plain": [
       "float"
      ]
     },
     "execution_count": 5,
     "metadata": {},
     "output_type": "execute_result"
    }
   ],
   "source": [
    "type(1.2)"
   ]
  },
  {
   "cell_type": "code",
   "execution_count": 6,
   "id": "a3c0fc99",
   "metadata": {},
   "outputs": [
    {
     "data": {
      "text/plain": [
       "str"
      ]
     },
     "execution_count": 6,
     "metadata": {},
     "output_type": "execute_result"
    }
   ],
   "source": [
    "type(\"str\")"
   ]
  },
  {
   "cell_type": "code",
   "execution_count": 7,
   "id": "d9fbbc85",
   "metadata": {},
   "outputs": [
    {
     "data": {
      "text/plain": [
       "bool"
      ]
     },
     "execution_count": 7,
     "metadata": {},
     "output_type": "execute_result"
    }
   ],
   "source": [
    "type(True)"
   ]
  },
  {
   "cell_type": "code",
   "execution_count": 8,
   "id": "9b769bea",
   "metadata": {},
   "outputs": [
    {
     "data": {
      "text/plain": [
       "str"
      ]
     },
     "execution_count": 8,
     "metadata": {},
     "output_type": "execute_result"
    }
   ],
   "source": [
    "type(\"1\")"
   ]
  },
  {
   "cell_type": "code",
   "execution_count": 14,
   "id": "a51416b4",
   "metadata": {},
   "outputs": [
    {
     "name": "stdout",
     "output_type": "stream",
     "text": [
      "오늘 점심에는 족발을 먹을거야 \n",
      "오늘 점심에는 야채곱창을 먹을거야 \n",
      "오늘 점심에는 족발을 먹을거야 \n"
     ]
    }
   ],
   "source": [
    "lunch_hubo1 = \"족발\"\n",
    "lunch_hubo2 = \"야채곱창\"\n",
    "print(\"오늘 점심에는 {}을 먹을거야 \".format(lunch_hubo1))\n",
    "print(f\"오늘 점심에는 {lunch_hubo2}을 먹을거야 \")\n",
    "print(\"오늘 점심에는 %s을 먹을거야 \"%lunch_hubo1)"
   ]
  },
  {
   "cell_type": "code",
   "execution_count": 25,
   "id": "2d41ebe6",
   "metadata": {},
   "outputs": [
    {
     "name": "stdout",
     "output_type": "stream",
     "text": [
      "         sorry sorry sorry sorry               \n"
     ]
    }
   ],
   "source": [
    "song = \"sorry sorry sorry sorry 내가 내가 내가 내가 먼저 네게 네게 네게 빠져 빠져 빠져 baby\"\n",
    "\n",
    "song.count(\"sorry\")\n",
    "song2 = \"         sorry sorry sorry sorry               \"\n",
    "song2.upper().strip().title().split(\" \") # 붙혀서 쓸수있음 ! "
   ]
  },
  {
   "cell_type": "code",
   "execution_count": 35,
   "id": "47bff874",
   "metadata": {},
   "outputs": [
    {
     "data": {
      "text/plain": [
       "'백두산이'"
      ]
     },
     "execution_count": 35,
     "metadata": {},
     "output_type": "execute_result"
    }
   ],
   "source": [
    "lyrics = \"동해물과 백두산이 마르고 닳도록\"\n",
    "lyrics[-3]\n",
    "lyrics[5:9]"
   ]
  },
  {
   "cell_type": "code",
   "execution_count": 36,
   "id": "97500ea9",
   "metadata": {},
   "outputs": [
    {
     "data": {
      "text/plain": [
       "2"
      ]
     },
     "execution_count": 36,
     "metadata": {},
     "output_type": "execute_result"
    }
   ],
   "source": [
    "7 // 3"
   ]
  },
  {
   "cell_type": "code",
   "execution_count": 37,
   "id": "4e7548dd",
   "metadata": {},
   "outputs": [
    {
     "data": {
      "text/plain": [
       "'백두산백두산백두산백두산백두산백두산백두산'"
      ]
     },
     "execution_count": 37,
     "metadata": {},
     "output_type": "execute_result"
    }
   ],
   "source": [
    "\"백두산\"*7"
   ]
  },
  {
   "cell_type": "code",
   "execution_count": 40,
   "id": "e258ea55",
   "metadata": {},
   "outputs": [
    {
     "data": {
      "text/plain": [
       "True"
      ]
     },
     "execution_count": 40,
     "metadata": {},
     "output_type": "execute_result"
    }
   ],
   "source": [
    "1+1 == 2"
   ]
  },
  {
   "cell_type": "code",
   "execution_count": 42,
   "id": "4d8926ef",
   "metadata": {},
   "outputs": [
    {
     "data": {
      "text/plain": [
       "True"
      ]
     },
     "execution_count": 42,
     "metadata": {},
     "output_type": "execute_result"
    }
   ],
   "source": [
    "1 != 2 "
   ]
  },
  {
   "cell_type": "code",
   "execution_count": 44,
   "id": "53881417",
   "metadata": {},
   "outputs": [
    {
     "data": {
      "text/plain": [
       "'참이아닐때 출력'"
      ]
     },
     "execution_count": 44,
     "metadata": {},
     "output_type": "execute_result"
    }
   ],
   "source": [
    "\"참일때 출력\" if True else \"참이아닐때 출력\"\n",
    "\"참일때 출력\" if False else \"참이아닐때 출력\"\n",
    "# 삼항연산자"
   ]
  },
  {
   "cell_type": "code",
   "execution_count": 53,
   "id": "079aa637",
   "metadata": {},
   "outputs": [
    {
     "name": "stdout",
     "output_type": "stream",
     "text": [
      "숫자 : 3\n",
      "3\n"
     ]
    }
   ],
   "source": [
    "test = input(\"숫자 : \")\n",
    "print(test)"
   ]
  },
  {
   "cell_type": "code",
   "execution_count": 54,
   "id": "64790703",
   "metadata": {},
   "outputs": [
    {
     "data": {
      "text/plain": [
       "str"
      ]
     },
     "execution_count": 54,
     "metadata": {},
     "output_type": "execute_result"
    }
   ],
   "source": [
    "type(test)"
   ]
  },
  {
   "cell_type": "code",
   "execution_count": 57,
   "id": "2d9b6358",
   "metadata": {},
   "outputs": [
    {
     "data": {
      "text/plain": [
       "int"
      ]
     },
     "execution_count": 57,
     "metadata": {},
     "output_type": "execute_result"
    }
   ],
   "source": [
    "test = int(test)\n",
    "type(test)"
   ]
  },
  {
   "cell_type": "code",
   "execution_count": 60,
   "id": "5a8ba644",
   "metadata": {},
   "outputs": [
    {
     "data": {
      "text/plain": [
       "float"
      ]
     },
     "execution_count": 60,
     "metadata": {},
     "output_type": "execute_result"
    }
   ],
   "source": [
    "test = float(test)\n",
    "type(test)"
   ]
  },
  {
   "cell_type": "code",
   "execution_count": 61,
   "id": "4e4d3116",
   "metadata": {},
   "outputs": [],
   "source": [
    "test = 3.5"
   ]
  },
  {
   "cell_type": "code",
   "execution_count": 63,
   "id": "372126f7",
   "metadata": {},
   "outputs": [],
   "source": [
    "import math"
   ]
  },
  {
   "cell_type": "code",
   "execution_count": 73,
   "id": "0e6c206c",
   "metadata": {},
   "outputs": [
    {
     "data": {
      "text/plain": [
       "4"
      ]
     },
     "execution_count": 73,
     "metadata": {},
     "output_type": "execute_result"
    }
   ],
   "source": [
    "math.ceil(test)##올림"
   ]
  },
  {
   "cell_type": "code",
   "execution_count": 67,
   "id": "d75a96bb",
   "metadata": {},
   "outputs": [
    {
     "data": {
      "text/plain": [
       "3"
      ]
     },
     "execution_count": 67,
     "metadata": {},
     "output_type": "execute_result"
    }
   ],
   "source": [
    "math.floor(test)##내림"
   ]
  },
  {
   "cell_type": "code",
   "execution_count": 74,
   "id": "e54ebb8a",
   "metadata": {},
   "outputs": [
    {
     "data": {
      "text/plain": [
       "4"
      ]
     },
     "execution_count": 74,
     "metadata": {},
     "output_type": "execute_result"
    }
   ],
   "source": [
    "round(test)##반올림"
   ]
  },
  {
   "cell_type": "code",
   "execution_count": 76,
   "id": "3d88efc9",
   "metadata": {},
   "outputs": [
    {
     "data": {
      "text/plain": [
       "3.142"
      ]
     },
     "execution_count": 76,
     "metadata": {},
     "output_type": "execute_result"
    }
   ],
   "source": [
    "round(3.141592,3)"
   ]
  },
  {
   "cell_type": "code",
   "execution_count": 78,
   "id": "80e7c0ba",
   "metadata": {},
   "outputs": [
    {
     "name": "stdout",
     "output_type": "stream",
     "text": [
      "5가 3보다 큽니다 \n"
     ]
    }
   ],
   "source": [
    "if 5 >3 :\n",
    "    print(\"5가 3보다 큽니다 \")\n",
    "else:\n",
    "    print(\"3이 5보다 큽니다.\")"
   ]
  },
  {
   "cell_type": "code",
   "execution_count": 89,
   "id": "1bc9ee7f",
   "metadata": {},
   "outputs": [
    {
     "name": "stdout",
     "output_type": "stream",
     "text": [
      "5는 3보다 큰 홀수입니다.\n"
     ]
    }
   ],
   "source": [
    "if 5> 3 :\n",
    "    if 5%2 ==1 :\n",
    "        print(\"5는 3보다 큰 홀수입니다.\")\n",
    "    else:\n",
    "        print(\"5는 3보다 큰 짝수입니다.\")\n",
    "else:\n",
    "    if 5%2 ==1 :\n",
    "        print(\"5는 3보다 작은 홀수입니다.\")\n",
    "    else:\n",
    "        print(\"5는 3보다 작은 짝수입니다.\")"
   ]
  },
  {
   "cell_type": "code",
   "execution_count": null,
   "id": "5edcd45e",
   "metadata": {},
   "outputs": [],
   "source": []
  },
  {
   "cell_type": "code",
   "execution_count": null,
   "id": "fdf6d522",
   "metadata": {},
   "outputs": [],
   "source": []
  },
  {
   "cell_type": "code",
   "execution_count": null,
   "id": "fb552737",
   "metadata": {},
   "outputs": [],
   "source": []
  },
  {
   "cell_type": "code",
   "execution_count": null,
   "id": "b543be68",
   "metadata": {},
   "outputs": [],
   "source": []
  },
  {
   "cell_type": "code",
   "execution_count": null,
   "id": "057ae0b5",
   "metadata": {},
   "outputs": [],
   "source": []
  },
  {
   "cell_type": "code",
   "execution_count": null,
   "id": "85f96680",
   "metadata": {},
   "outputs": [],
   "source": []
  },
  {
   "cell_type": "code",
   "execution_count": null,
   "id": "d909cfad",
   "metadata": {},
   "outputs": [],
   "source": []
  },
  {
   "cell_type": "code",
   "execution_count": null,
   "id": "868b8a3f",
   "metadata": {},
   "outputs": [],
   "source": []
  }
 ],
 "metadata": {
  "kernelspec": {
   "display_name": "Python 3 (ipykernel)",
   "language": "python",
   "name": "python3"
  },
  "language_info": {
   "codemirror_mode": {
    "name": "ipython",
    "version": 3
   },
   "file_extension": ".py",
   "mimetype": "text/x-python",
   "name": "python",
   "nbconvert_exporter": "python",
   "pygments_lexer": "ipython3",
   "version": "3.9.12"
  }
 },
 "nbformat": 4,
 "nbformat_minor": 5
}
