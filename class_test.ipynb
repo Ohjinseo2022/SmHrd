{
 "cells": [
  {
   "cell_type": "code",
   "execution_count": 7,
   "id": "67cb3e55",
   "metadata": {},
   "outputs": [],
   "source": [
    "class JSS:\n",
    "    def __init__(self): # __init__ 클래스를 호출했을때 자동으로 실행되는 함수\n",
    "        self.name = input(\"이름을 입력하세요 ! >> \")\n",
    "        self.age = input(\"나이를 입력하세요 ! >> \")\n",
    "        return print(\"JSS에 오신 것을 환영합니다\")\n",
    "    def show(self, a = 2 ):\n",
    "        if a == 0 :\n",
    "            self.result = self.name\n",
    "        elif a == 1 :\n",
    "            self.result = self.age\n",
    "        else:\n",
    "            self.result = (self.name,self.age)\n",
    "        return self.result"
   ]
  },
  {
   "cell_type": "code",
   "execution_count": 9,
   "id": "dbc6213d",
   "metadata": {},
   "outputs": [],
   "source": [
    "class JSS2(JSS):\n",
    "    def __init__(self):\n",
    "        super().__init__()\n",
    "        self.gander = input(\"성별을 입력하세요 : \")\n",
    "    # show 함수 재정의 or 상속 받아서 함수내용추가 \n",
    "    def show2(self, a= 3):\n",
    "        if a== 0:\n",
    "            self.result =self.name\n",
    "        elif a ==1 :\n",
    "            self.result = self.age\n",
    "        elif a ==2 :\n",
    "            self.result = self.gander\n",
    "        else:\n",
    "            self.result = (self.name,self.age,self.gender)\n",
    "        return self.result"
   ]
  }
 ],
 "metadata": {
  "kernelspec": {
   "display_name": "Python 3 (ipykernel)",
   "language": "python",
   "name": "python3"
  },
  "language_info": {
   "codemirror_mode": {
    "name": "ipython",
    "version": 3
   },
   "file_extension": ".py",
   "mimetype": "text/x-python",
   "name": "python",
   "nbconvert_exporter": "python",
   "pygments_lexer": "ipython3",
   "version": "3.9.12"
  }
 },
 "nbformat": 4,
 "nbformat_minor": 5
}
