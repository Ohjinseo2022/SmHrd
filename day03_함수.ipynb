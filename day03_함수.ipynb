{
 "cells": [
  {
   "cell_type": "code",
   "execution_count": 1,
   "id": "a0dce388",
   "metadata": {},
   "outputs": [],
   "source": [
    "import random"
   ]
  },
  {
   "cell_type": "code",
   "execution_count": 2,
   "id": "74b44472",
   "metadata": {},
   "outputs": [
    {
     "data": {
      "text/plain": [
       "0.3914524185657374"
      ]
     },
     "execution_count": 2,
     "metadata": {},
     "output_type": "execute_result"
    }
   ],
   "source": [
    "random.random()"
   ]
  },
  {
   "cell_type": "code",
   "execution_count": 7,
   "id": "7ae579ec",
   "metadata": {},
   "outputs": [
    {
     "data": {
      "text/plain": [
       "3"
      ]
     },
     "execution_count": 7,
     "metadata": {},
     "output_type": "execute_result"
    }
   ],
   "source": [
    "random.randrange(1,7)"
   ]
  },
  {
   "cell_type": "code",
   "execution_count": null,
   "id": "6f16cfa8",
   "metadata": {},
   "outputs": [],
   "source": [
    "def random():"
   ]
  },
  {
   "cell_type": "code",
   "execution_count": null,
   "id": "6062ebac",
   "metadata": {},
   "outputs": [],
   "source": [
    "def randrange(a, b): #경우에 따라 () 안에 매개변수 할당가능  "
   ]
  },
  {
   "cell_type": "code",
   "execution_count": 17,
   "id": "06bcb059",
   "metadata": {},
   "outputs": [],
   "source": [
    "def add(x , y, reverse = False):\n",
    "    return x+y"
   ]
  },
  {
   "cell_type": "code",
   "execution_count": 40,
   "id": "94d66d07",
   "metadata": {},
   "outputs": [],
   "source": [
    "def subtract(x,y,reverse = False):  # ex) sort 함수 \n",
    "    if reverse ==False:\n",
    "        result = x-y\n",
    "    elif reverse == True:\n",
    "        result = y-x\n",
    "    else:\n",
    "        raise Exception(\"reverse 매개변수의 설정이 잘못되었습니다.\")\n",
    "    return result"
   ]
  },
  {
   "cell_type": "code",
   "execution_count": 18,
   "id": "368a5cba",
   "metadata": {},
   "outputs": [
    {
     "data": {
      "text/plain": [
       "3"
      ]
     },
     "execution_count": 18,
     "metadata": {},
     "output_type": "execute_result"
    }
   ],
   "source": [
    "add(1,2)"
   ]
  },
  {
   "cell_type": "code",
   "execution_count": 39,
   "id": "836bbaa5",
   "metadata": {},
   "outputs": [
    {
     "data": {
      "text/plain": [
       "-1"
      ]
     },
     "execution_count": 39,
     "metadata": {},
     "output_type": "execute_result"
    }
   ],
   "source": [
    "subtract(1,2, reverse = True )"
   ]
  },
  {
   "cell_type": "code",
   "execution_count": 46,
   "id": "4cbb2377",
   "metadata": {},
   "outputs": [
    {
     "data": {
      "text/plain": [
       "21"
      ]
     },
     "execution_count": 46,
     "metadata": {},
     "output_type": "execute_result"
    }
   ],
   "source": [
    "def add(*args):  # 매개변수의 갯수가 정해지지않은경우 *을 사용하면 해당 값들이 튜플로 들어옴 \n",
    "    return sum(list(args))  # 복잡한 함수의경우 튜플은 안의 정보를 수정하지 못하기때문에 리스트로 변환해서 진행하기도함 \n",
    "\n",
    "add(1,2,3,4,5,6)"
   ]
  },
  {
   "cell_type": "code",
   "execution_count": 47,
   "id": "5e08f78a",
   "metadata": {},
   "outputs": [
    {
     "data": {
      "text/plain": [
       "{1, 2, 3, 4, 5}"
      ]
     },
     "execution_count": 47,
     "metadata": {},
     "output_type": "execute_result"
    }
   ],
   "source": [
    "t= (1,2,3,4,5)\n",
    "set(t)"
   ]
  },
  {
   "cell_type": "code",
   "execution_count": 51,
   "id": "cac66bf9",
   "metadata": {},
   "outputs": [
    {
     "data": {
      "text/plain": [
       "[1, 2, 3, 4, 5, 6, 7]"
      ]
     },
     "execution_count": 51,
     "metadata": {},
     "output_type": "execute_result"
    }
   ],
   "source": [
    "l = (1,1,2,3,4,4,4,5,5,6,6,7)\n",
    "l = list(set(l))\n",
    "l"
   ]
  },
  {
   "cell_type": "code",
   "execution_count": 53,
   "id": "42399671",
   "metadata": {},
   "outputs": [
    {
     "data": {
      "text/plain": [
       "{1: '가', 2: '나', 3: '다', 4: '라', 5: '마'}"
      ]
     },
     "execution_count": 53,
     "metadata": {},
     "output_type": "execute_result"
    }
   ],
   "source": [
    "a = [1,2,3,4,5]\n",
    "b = [\"가\",\"나\",\"다\",\"라\",\"마\"]\n",
    "d = dict(zip(a,b))\n",
    "d"
   ]
  },
  {
   "cell_type": "code",
   "execution_count": 54,
   "id": "7a934c36",
   "metadata": {},
   "outputs": [],
   "source": [
    "def interact(x,y):\n",
    "    return x+y,x-y"
   ]
  },
  {
   "cell_type": "code",
   "execution_count": 56,
   "id": "2c65b9f2",
   "metadata": {},
   "outputs": [
    {
     "name": "stdout",
     "output_type": "stream",
     "text": [
      "7\n",
      "-3\n"
     ]
    }
   ],
   "source": [
    "a, b = interact(2,5)\n",
    "print(a)\n",
    "print(b)\n"
   ]
  },
  {
   "cell_type": "code",
   "execution_count": 58,
   "id": "66abfe18",
   "metadata": {},
   "outputs": [
    {
     "data": {
      "text/plain": [
       "[3, 4, 7, 12, 19]"
      ]
     },
     "execution_count": 58,
     "metadata": {},
     "output_type": "execute_result"
    }
   ],
   "source": [
    "def bokjap(k):\n",
    "    k= k**2\n",
    "    k +=3\n",
    "    return k\n",
    "imsi = []\n",
    "imsi = [bokjap(i) for i in range(5)]\n",
    "imsi\n"
   ]
  },
  {
   "cell_type": "code",
   "execution_count": 59,
   "id": "d908cdf7",
   "metadata": {},
   "outputs": [
    {
     "data": {
      "text/plain": [
       "[3, 4, 7, 12, 19]"
      ]
     },
     "execution_count": 59,
     "metadata": {},
     "output_type": "execute_result"
    }
   ],
   "source": [
    "imsi = []\n",
    "\n",
    "for i in range(5):\n",
    "    k = i**2\n",
    "    k += 3\n",
    "    imsi.append(k)\n",
    "imsi"
   ]
  },
  {
   "cell_type": "code",
   "execution_count": 28,
   "id": "3ba1e0dc",
   "metadata": {},
   "outputs": [],
   "source": [
    "def solution(new_id):\n",
    "    #1단계\n",
    "    new_id = new_id.lower()\n",
    "\n",
    "    #2단계\n",
    "    allowed = ['a','b','c','d','e','f','g','i','j','k','l','m','n','o','p','q','r','s','t','u','v','w','x','y','z',\"0\",\"1\",\"2\",\"3\",\"4\",\"5\",\"6\",\"7\",\"8\",\"9\",\"-\",\"_\",\".\"]    \n",
    "    new_id2 = new_id\n",
    "    for i in new_id2:\n",
    "        if i not in allowed:\n",
    "            new_id = new_id.replace(i, \"\")     \n",
    "    #3단계\n",
    "    while \"..\" in new_id:\n",
    "        if \"..\" in new_id:\n",
    "            new_id = new_id.replace(\"..\",\".\")\n",
    "    #4단계\n",
    "    try:\n",
    "        if new_id[0]==\".\":\n",
    "            new_id=new_id[1:]\n",
    "        else:\n",
    "            pass\n",
    "\n",
    "        if new_id[-1]==\".\":\n",
    "            new_id=new_id[:-1]\n",
    "        else:\n",
    "            pass\n",
    "    except:\n",
    "        pass\n",
    "    #5단계\n",
    "\n",
    "    if new_id == \"\":\n",
    "        new_id=\"a\"\n",
    "    \n",
    "    else:\n",
    "        pass\n",
    "\n",
    "    #6단계\n",
    "    if len(new_id) > 15:\n",
    "        new_id=new_id[:15]\n",
    "        while new_id[-1] == \".\":\n",
    "            new_id = new_id[:-1]\n",
    "    else:\n",
    "        pass\n",
    "\n",
    "    #7단계\n",
    "    while len(new_id)<3 :\n",
    "        new_id=new_id + new_id[-1]\n",
    "    \n",
    "    return new_id\n"
   ]
  },
  {
   "cell_type": "code",
   "execution_count": 27,
   "id": "fbbb80ae",
   "metadata": {},
   "outputs": [
    {
     "name": "stdout",
     "output_type": "stream",
     "text": [
      "abcdefgijklmn.p\n"
     ]
    }
   ],
   "source": [
    "solution(\"abcdefghijklmn.p\")"
   ]
  }
 ],
 "metadata": {
  "kernelspec": {
   "display_name": "Python 3 (ipykernel)",
   "language": "python",
   "name": "python3"
  },
  "language_info": {
   "codemirror_mode": {
    "name": "ipython",
    "version": 3
   },
   "file_extension": ".py",
   "mimetype": "text/x-python",
   "name": "python",
   "nbconvert_exporter": "python",
   "pygments_lexer": "ipython3",
   "version": "3.9.12"
  }
 },
 "nbformat": 4,
 "nbformat_minor": 5
}
