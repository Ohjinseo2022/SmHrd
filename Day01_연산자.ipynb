{
 "cells": [
  {
   "cell_type": "code",
   "execution_count": 1,
   "id": "052fd8f9",
   "metadata": {},
   "outputs": [
    {
     "data": {
      "text/plain": [
       "1"
      ]
     },
     "execution_count": 1,
     "metadata": {},
     "output_type": "execute_result"
    }
   ],
   "source": [
    "7 % 2 "
   ]
  },
  {
   "cell_type": "code",
   "execution_count": 6,
   "id": "276636f0",
   "metadata": {},
   "outputs": [
    {
     "data": {
      "text/plain": [
       "str"
      ]
     },
     "execution_count": 6,
     "metadata": {},
     "output_type": "execute_result"
    }
   ],
   "source": [
    "num = \"7\"\n",
    "type(num)"
   ]
  },
  {
   "cell_type": "code",
   "execution_count": 8,
   "id": "0b09deba",
   "metadata": {},
   "outputs": [
    {
     "data": {
      "text/plain": [
       "17"
      ]
     },
     "execution_count": 8,
     "metadata": {},
     "output_type": "execute_result"
    }
   ],
   "source": [
    "7+int(\"10\")"
   ]
  },
  {
   "cell_type": "code",
   "execution_count": 9,
   "id": "30418152",
   "metadata": {},
   "outputs": [
    {
     "data": {
      "text/plain": [
       "17.0"
      ]
     },
     "execution_count": 9,
     "metadata": {},
     "output_type": "execute_result"
    }
   ],
   "source": [
    "7+float(\"10\")"
   ]
  },
  {
   "cell_type": "code",
   "execution_count": 11,
   "id": "3999f14d",
   "metadata": {},
   "outputs": [
    {
     "name": "stdout",
     "output_type": "stream",
     "text": [
      "정수를 입력하세요 : 456\n"
     ]
    }
   ],
   "source": [
    "num = input(\"정수를 입력하세요 : \")"
   ]
  },
  {
   "cell_type": "code",
   "execution_count": 12,
   "id": "3af0fbbb",
   "metadata": {},
   "outputs": [
    {
     "data": {
      "text/plain": [
       "str"
      ]
     },
     "execution_count": 12,
     "metadata": {},
     "output_type": "execute_result"
    }
   ],
   "source": [
    "type(num)"
   ]
  },
  {
   "cell_type": "code",
   "execution_count": 18,
   "id": "18299224",
   "metadata": {},
   "outputs": [
    {
     "name": "stdout",
     "output_type": "stream",
     "text": [
      "정수를 입력하세요 : 4.56\n"
     ]
    },
    {
     "ename": "ValueError",
     "evalue": "invalid literal for int() with base 10: '4.56'",
     "output_type": "error",
     "traceback": [
      "\u001b[1;31m---------------------------------------------------------------------------\u001b[0m",
      "\u001b[1;31mValueError\u001b[0m                                Traceback (most recent call last)",
      "Input \u001b[1;32mIn [18]\u001b[0m, in \u001b[0;36m<cell line: 1>\u001b[1;34m()\u001b[0m\n\u001b[1;32m----> 1\u001b[0m num \u001b[38;5;241m=\u001b[39m \u001b[38;5;28;43mint\u001b[39;49m\u001b[43m(\u001b[49m\u001b[38;5;28;43minput\u001b[39;49m\u001b[43m(\u001b[49m\u001b[38;5;124;43m\"\u001b[39;49m\u001b[38;5;124;43m정수를 입력하세요 : \u001b[39;49m\u001b[38;5;124;43m\"\u001b[39;49m\u001b[43m)\u001b[49m\u001b[43m)\u001b[49m\n",
      "\u001b[1;31mValueError\u001b[0m: invalid literal for int() with base 10: '4.56'"
     ]
    }
   ],
   "source": [
    "num = int(input(\"정수를 입력하세요 : \"))"
   ]
  },
  {
   "cell_type": "code",
   "execution_count": 19,
   "id": "01f6f572",
   "metadata": {},
   "outputs": [
    {
     "data": {
      "text/plain": [
       "1"
      ]
     },
     "execution_count": 19,
     "metadata": {},
     "output_type": "execute_result"
    }
   ],
   "source": [
    "int(1.2)"
   ]
  },
  {
   "cell_type": "code",
   "execution_count": 22,
   "id": "3ac4805c",
   "metadata": {},
   "outputs": [
    {
     "name": "stdout",
     "output_type": "stream",
     "text": [
      "아무숫자나 입력하세요 : 3.5\n",
      "아무숫자나 입력: 2.5\n",
      "6.0\n",
      "1.0\n",
      "8.75\n",
      "1.4\n",
      "1.0\n",
      "1.0\n"
     ]
    }
   ],
   "source": [
    "num1 = float(input(\"아무숫자나 입력하세요 : \"))\n",
    "num2 = float(input(\"아무숫자나 입력: \"))\n",
    "print(num1 + num2)\n",
    "print(num1 - num2)\n",
    "print(num1 * num2)\n",
    "print(num1 / num2)\n",
    "print(num1 // num2)\n",
    "print(num1 % num2)"
   ]
  },
  {
   "cell_type": "code",
   "execution_count": 23,
   "id": "f3182e1d",
   "metadata": {},
   "outputs": [
    {
     "name": "stdout",
     "output_type": "stream",
     "text": [
      "처음처럼\n"
     ]
    }
   ],
   "source": [
    "str1 = \"처음\"\n",
    "str2 = \"처럼\"\n",
    "print(str1+str2)"
   ]
  },
  {
   "cell_type": "code",
   "execution_count": 24,
   "id": "9ba11f13",
   "metadata": {},
   "outputs": [
    {
     "data": {
      "text/plain": [
       "8"
      ]
     },
     "execution_count": 24,
     "metadata": {},
     "output_type": "execute_result"
    }
   ],
   "source": [
    "2**3"
   ]
  },
  {
   "cell_type": "code",
   "execution_count": 26,
   "id": "376e66f8",
   "metadata": {},
   "outputs": [
    {
     "name": "stdout",
     "output_type": "stream",
     "text": [
      "7\n"
     ]
    }
   ],
   "source": [
    "a =7 \n",
    "print(a)"
   ]
  },
  {
   "cell_type": "code",
   "execution_count": 28,
   "id": "52359c63",
   "metadata": {},
   "outputs": [
    {
     "data": {
      "text/plain": [
       "49"
      ]
     },
     "execution_count": 28,
     "metadata": {},
     "output_type": "execute_result"
    }
   ],
   "source": [
    "a= 7 \n",
    "a *= 7\n",
    "a"
   ]
  },
  {
   "cell_type": "code",
   "execution_count": 29,
   "id": "849146f5",
   "metadata": {},
   "outputs": [
    {
     "name": "stdout",
     "output_type": "stream",
     "text": [
      "7 5\n"
     ]
    }
   ],
   "source": [
    "a = 5\n",
    "b= 7\n",
    "a,b =b,a\n",
    "print(a , b)"
   ]
  },
  {
   "cell_type": "code",
   "execution_count": 35,
   "id": "1215eb0f",
   "metadata": {},
   "outputs": [
    {
     "name": "stdout",
     "output_type": "stream",
     "text": [
      "수학점수  :   50\n",
      "국어점수  :   60\n",
      "영어점수  :   90\n",
      "총점 : 200점\n",
      "평균 점수 : 66.66666666666667점\n"
     ]
    }
   ],
   "source": [
    "math = int(input(\"수학점수  :   \"))\n",
    "kor = int(input(\"국어점수  :   \"))\n",
    "eng = int(input(\"영어점수  :   \"))\n",
    "total = math+kor+eng\n",
    "print(f'총점 : {total}점')\n",
    "print(f'평균 점수 : {float(total/3)}점')\n"
   ]
  },
  {
   "cell_type": "markdown",
   "id": "3d8b9af2",
   "metadata": {},
   "source": [
    "#### 비교연산자"
   ]
  },
  {
   "cell_type": "code",
   "execution_count": 36,
   "id": "965d7f51",
   "metadata": {},
   "outputs": [
    {
     "data": {
      "text/plain": [
       "True"
      ]
     },
     "execution_count": 36,
     "metadata": {},
     "output_type": "execute_result"
    }
   ],
   "source": [
    " 1 > 0"
   ]
  },
  {
   "cell_type": "code",
   "execution_count": 40,
   "id": "28c2d184",
   "metadata": {},
   "outputs": [
    {
     "data": {
      "text/plain": [
       "False"
      ]
     },
     "execution_count": 40,
     "metadata": {},
     "output_type": "execute_result"
    }
   ],
   "source": [
    "1 < 0"
   ]
  },
  {
   "cell_type": "code",
   "execution_count": 41,
   "id": "57053ac0",
   "metadata": {},
   "outputs": [
    {
     "ename": "SyntaxError",
     "evalue": "cannot assign to operator (1294977514.py, line 1)",
     "output_type": "error",
     "traceback": [
      "\u001b[1;36m  Input \u001b[1;32mIn [41]\u001b[1;36m\u001b[0m\n\u001b[1;33m    1 + 1 =2\u001b[0m\n\u001b[1;37m    ^\u001b[0m\n\u001b[1;31mSyntaxError\u001b[0m\u001b[1;31m:\u001b[0m cannot assign to operator\n"
     ]
    }
   ],
   "source": [
    "1 + 1 =2"
   ]
  },
  {
   "cell_type": "code",
   "execution_count": 39,
   "id": "f57e35cd",
   "metadata": {},
   "outputs": [
    {
     "data": {
      "text/plain": [
       "True"
      ]
     },
     "execution_count": 39,
     "metadata": {},
     "output_type": "execute_result"
    }
   ],
   "source": [
    "1 + 1 ==  2 #파이썬에서의 = 은 대입, 할당을 의미 ! "
   ]
  },
  {
   "cell_type": "code",
   "execution_count": 42,
   "id": "85d50d2e",
   "metadata": {},
   "outputs": [
    {
     "data": {
      "text/plain": [
       "False"
      ]
     },
     "execution_count": 42,
     "metadata": {},
     "output_type": "execute_result"
    }
   ],
   "source": [
    " 1 + 1 != 2"
   ]
  },
  {
   "cell_type": "code",
   "execution_count": 45,
   "id": "84668fc7",
   "metadata": {},
   "outputs": [
    {
     "data": {
      "text/plain": [
       "True"
      ]
     },
     "execution_count": 45,
     "metadata": {},
     "output_type": "execute_result"
    }
   ],
   "source": [
    "1 + 1 >= 2\n",
    "1 + 1 <= 2"
   ]
  },
  {
   "cell_type": "code",
   "execution_count": 48,
   "id": "c786613e",
   "metadata": {},
   "outputs": [
    {
     "data": {
      "text/plain": [
       "False"
      ]
     },
     "execution_count": 48,
     "metadata": {},
     "output_type": "execute_result"
    }
   ],
   "source": [
    "not 1 + 1 == 2 "
   ]
  },
  {
   "cell_type": "code",
   "execution_count": 49,
   "id": "905a3eb4",
   "metadata": {},
   "outputs": [
    {
     "data": {
      "text/plain": [
       "True"
      ]
     },
     "execution_count": 49,
     "metadata": {},
     "output_type": "execute_result"
    }
   ],
   "source": [
    "1 + 1 == 2 and 2 + 2 == 4"
   ]
  },
  {
   "cell_type": "code",
   "execution_count": 56,
   "id": "a626cf01",
   "metadata": {},
   "outputs": [
    {
     "data": {
      "text/plain": [
       "True"
      ]
     },
     "execution_count": 56,
     "metadata": {},
     "output_type": "execute_result"
    }
   ],
   "source": [
    "1 + 1 == 2 or 2 + 2 == 4"
   ]
  },
  {
   "cell_type": "code",
   "execution_count": 63,
   "id": "3af07ed7",
   "metadata": {},
   "outputs": [
    {
     "data": {
      "text/plain": [
       "True"
      ]
     },
     "execution_count": 63,
     "metadata": {},
     "output_type": "execute_result"
    }
   ],
   "source": [
    "not 1 + 1 != 2 and 2 + 2 != 9  # 두개의 수식 사이에 not 을 집어넣을수 있음 하나의 수식만 적용 "
   ]
  },
  {
   "cell_type": "code",
   "execution_count": 66,
   "id": "a91f70a3",
   "metadata": {},
   "outputs": [
    {
     "name": "stdout",
     "output_type": "stream",
     "text": [
      "수학점수 입력 : 90\n",
      "합격\n"
     ]
    }
   ],
   "source": [
    "math = int(input(\"수학점수 입력 : \"))\n",
    "print(\"합격\") if math >= 80 else print(\"불합격\") "
   ]
  },
  {
   "cell_type": "code",
   "execution_count": 70,
   "id": "71ed982f",
   "metadata": {},
   "outputs": [
    {
     "name": "stdout",
     "output_type": "stream",
     "text": [
      "수학점수 입력 : 84\n",
      "7의 배수입니다\n"
     ]
    }
   ],
   "source": [
    "math = int(input(\"수학점수 입력 : \"))\n",
    "print(\"7의 배수입니다\") if math%7 == 0 else print(\"그외\") "
   ]
  },
  {
   "cell_type": "code",
   "execution_count": 71,
   "id": "132e9023",
   "metadata": {},
   "outputs": [
    {
     "name": "stdout",
     "output_type": "stream",
     "text": [
      "7의배수\n"
     ]
    }
   ],
   "source": [
    "if math%7 == 0 :\n",
    "    print(\"7의배수\")\n",
    "else:\n",
    "    print(\"그외\")"
   ]
  },
  {
   "cell_type": "code",
   "execution_count": 72,
   "id": "7656d6fd",
   "metadata": {},
   "outputs": [
    {
     "data": {
      "text/plain": [
       "3"
      ]
     },
     "execution_count": 72,
     "metadata": {},
     "output_type": "execute_result"
    }
   ],
   "source": [
    "True + 2"
   ]
  },
  {
   "cell_type": "code",
   "execution_count": 73,
   "id": "004869b6",
   "metadata": {},
   "outputs": [
    {
     "data": {
      "text/plain": [
       "2"
      ]
     },
     "execution_count": 73,
     "metadata": {},
     "output_type": "execute_result"
    }
   ],
   "source": [
    "False + 2"
   ]
  },
  {
   "cell_type": "code",
   "execution_count": 75,
   "id": "0235f1c2",
   "metadata": {},
   "outputs": [
    {
     "data": {
      "text/plain": [
       "True"
      ]
     },
     "execution_count": 75,
     "metadata": {},
     "output_type": "execute_result"
    }
   ],
   "source": [
    "False == 0 "
   ]
  },
  {
   "cell_type": "code",
   "execution_count": null,
   "id": "3f0bf3de",
   "metadata": {},
   "outputs": [],
   "source": [
    "# if 조건식:\n",
    "#     트루일때 실행문장\n",
    "# elif 조건식: \n",
    "#     위조건을 제외한 트루문장 실행문장\n",
    "# else:\n",
    "#     그와 나머지 "
   ]
  },
  {
   "cell_type": "code",
   "execution_count": null,
   "id": "dedba571",
   "metadata": {},
   "outputs": [],
   "source": []
  }
 ],
 "metadata": {
  "kernelspec": {
   "display_name": "Python 3 (ipykernel)",
   "language": "python",
   "name": "python3"
  },
  "language_info": {
   "codemirror_mode": {
    "name": "ipython",
    "version": 3
   },
   "file_extension": ".py",
   "mimetype": "text/x-python",
   "name": "python",
   "nbconvert_exporter": "python",
   "pygments_lexer": "ipython3",
   "version": "3.9.12"
  }
 },
 "nbformat": 4,
 "nbformat_minor": 5
}
