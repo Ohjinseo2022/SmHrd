{
 "cells": [
  {
   "cell_type": "markdown",
   "id": "ca62cd7a",
   "metadata": {},
   "source": [
    "# Jupyter Notebook 소개 및 실습"
   ]
  },
  {
   "cell_type": "markdown",
   "id": "dda64a3b",
   "metadata": {},
   "source": [
    "- 주피터 노트북은 코드 작성 및 실행 뿐만 아니라 코드 설명을 위한 문서 작성을 편리하게 할수 있음 \n",
    "- 주피터 노트북에서는 코드, 수식, 시각화 자료 및 텍스트로 이루어진 문서를 생성하고 공유할 수 있어 이론 설명과 시뮬레이션이 필요한 분야 \n",
    "- 데이터설명과 결과분석, 협업이 필요한 데이터 과학분야에 널리 이용됨\n",
    "- 파이썬 ,R , julia, Scala 등 40개이상의 프로래밍 언어를 지원함 \n",
    "- 작성된 코드와 무선는 다양한 출력 양식으로 변환해서 공유할 수 있음\n",
    "- http:jupyter.org"
   ]
  },
  {
   "cell_type": "markdown",
   "id": "1f6956a0",
   "metadata": {},
   "source": [
    "# Header 1"
   ]
  },
  {
   "cell_type": "markdown",
   "id": "1e0fa74d",
   "metadata": {},
   "source": [
    "## Header2"
   ]
  },
  {
   "cell_type": "markdown",
   "id": "7fccf8e9",
   "metadata": {},
   "source": [
    "### Header3"
   ]
  },
  {
   "cell_type": "markdown",
   "id": "5861bc21",
   "metadata": {},
   "source": [
    "#### Header4"
   ]
  },
  {
   "cell_type": "markdown",
   "id": "15123aac",
   "metadata": {},
   "source": [
    "- Bulleted List 1\n",
    "    - Bulleted List 2 tab! \n",
    "        - 라벨링에 따라 색상이 다름 "
   ]
  },
  {
   "cell_type": "markdown",
   "id": "797b7eeb",
   "metadata": {},
   "source": [
    "    -d오 ?"
   ]
  },
  {
   "cell_type": "markdown",
   "id": "0a5e9eea",
   "metadata": {},
   "source": [
    "1. Numbered List\n",
    "    1. Numbered List\n",
    "    2. Numbered List\n",
    "        1. Numbered List"
   ]
  },
  {
   "cell_type": "markdown",
   "id": "94f73064",
   "metadata": {},
   "source": [
    "**Bold**"
   ]
  },
  {
   "cell_type": "markdown",
   "id": "ee2878b1",
   "metadata": {},
   "source": [
    "*itelic*"
   ]
  },
  {
   "cell_type": "code",
   "execution_count": 1,
   "id": "aac4e422",
   "metadata": {},
   "outputs": [
    {
     "name": "stdout",
     "output_type": "stream",
     "text": [
      "Hello Python\n"
     ]
    }
   ],
   "source": [
    "### 주석 달기 주석은 ###  여러개 달아도 상관없음 \n",
    "print(\"Hello Python\")"
   ]
  },
  {
   "cell_type": "code",
   "execution_count": 2,
   "id": "5e700f61",
   "metadata": {},
   "outputs": [
    {
     "name": "stdout",
     "output_type": "stream",
     "text": [
      "2\n",
      "4\n",
      "6\n"
     ]
    }
   ],
   "source": [
    "# print(1) 범위선택해서 ctal / 누르면  범위 주석 처리가능\n",
    "print(2)\n",
    "# print(3)\n",
    "print(4)\n",
    "# print(5)\n",
    "print(6)"
   ]
  },
  {
   "cell_type": "code",
   "execution_count": 3,
   "id": "7f4a6d15",
   "metadata": {},
   "outputs": [],
   "source": [
    "from IPython.display import Image"
   ]
  },
  {
   "cell_type": "code",
   "execution_count": 4,
   "id": "5bbc41bc",
   "metadata": {},
   "outputs": [
    {
     "data": {
      "text/html": [
       "<img src=\"https://item.kakaocdn.net/do/c5c470298d527ef65eb52883f0f186c4a88f7b2cbb72be0bdfff91ad65b168ab\" width=\"300\" height=\"300\"/>"
      ],
      "text/plain": [
       "<IPython.core.display.Image object>"
      ]
     },
     "execution_count": 4,
     "metadata": {},
     "output_type": "execute_result"
    }
   ],
   "source": [
    "Image(url = 'https://item.kakaocdn.net/do/c5c470298d527ef65eb52883f0f186c4a88f7b2cbb72be0bdfff91ad65b168ab', width = 300, height = 300)"
   ]
  },
  {
   "cell_type": "code",
   "execution_count": 5,
   "id": "a5d95ccb",
   "metadata": {},
   "outputs": [],
   "source": [
    "from IPython.lib.display import YouTubeVideo"
   ]
  },
  {
   "cell_type": "code",
   "execution_count": 6,
   "id": "cee230bf",
   "metadata": {},
   "outputs": [
    {
     "data": {
      "image/jpeg": "[encoded data removed]",
      "text/html": [
       "\n",
       "        <iframe\n",
       "            width=\"400\"\n",
       "            height=\"300\"\n",
       "            src=\"https://www.youtube.com/embed/I5cq54MFQCo\"\n",
       "            frameborder=\"0\"\n",
       "            allowfullscreen\n",
       "            \n",
       "        ></iframe>\n",
       "        "
      ],
      "text/plain": [
       "<IPython.lib.display.YouTubeVideo at 0x2abf64e8040>"
      ]
     },
     "execution_count": 6,
     "metadata": {},
     "output_type": "execute_result"
    }
   ],
   "source": [
    "YouTubeVideo('I5cq54MFQCo')"
   ]
  },
  {
   "cell_type": "code",
   "execution_count": 7,
   "id": "d6346f60",
   "metadata": {},
   "outputs": [
    {
     "data": {
      "text/plain": [
       "2"
      ]
     },
     "execution_count": 7,
     "metadata": {},
     "output_type": "execute_result"
    }
   ],
   "source": [
    "1+1"
   ]
  },
  {
   "cell_type": "code",
   "execution_count": 8,
   "id": "3d956057",
   "metadata": {},
   "outputs": [
    {
     "name": "stdout",
     "output_type": "stream",
     "text": [
      "3\n"
     ]
    }
   ],
   "source": [
    "print(1+2)"
   ]
  },
  {
   "cell_type": "code",
   "execution_count": 9,
   "id": "5e7e9805",
   "metadata": {},
   "outputs": [
    {
     "data": {
      "text/plain": [
       "3"
      ]
     },
     "execution_count": 9,
     "metadata": {},
     "output_type": "execute_result"
    }
   ],
   "source": [
    "1+1 \n",
    "1+2"
   ]
  },
  {
   "cell_type": "code",
   "execution_count": 10,
   "id": "4efa028a",
   "metadata": {},
   "outputs": [
    {
     "name": "stdout",
     "output_type": "stream",
     "text": [
      "2\n"
     ]
    },
    {
     "data": {
      "text/plain": [
       "3"
      ]
     },
     "execution_count": 10,
     "metadata": {},
     "output_type": "execute_result"
    }
   ],
   "source": [
    "print(1+1)\n",
    "1+2"
   ]
  },
  {
   "cell_type": "code",
   "execution_count": 11,
   "id": "982c4e10",
   "metadata": {},
   "outputs": [
    {
     "name": "stdout",
     "output_type": "stream",
     "text": [
      "2\n",
      "3\n"
     ]
    }
   ],
   "source": [
    "print(1+1)\n",
    "print(1+2)"
   ]
  },
  {
   "cell_type": "code",
   "execution_count": 12,
   "id": "0ed4eb36",
   "metadata": {},
   "outputs": [],
   "source": [
    "num = 3"
   ]
  },
  {
   "cell_type": "code",
   "execution_count": 13,
   "id": "8365b957",
   "metadata": {},
   "outputs": [
    {
     "name": "stdout",
     "output_type": "stream",
     "text": [
      "3\n"
     ]
    }
   ],
   "source": [
    "print(num)"
   ]
  },
  {
   "cell_type": "code",
   "execution_count": 14,
   "id": "bed7acb8",
   "metadata": {},
   "outputs": [
    {
     "name": "stdout",
     "output_type": "stream",
     "text": [
      "5\n"
     ]
    }
   ],
   "source": [
    "num = 5\n",
    "print(num)"
   ]
  },
  {
   "cell_type": "code",
   "execution_count": 15,
   "id": "b8e23230",
   "metadata": {},
   "outputs": [
    {
     "name": "stdout",
     "output_type": "stream",
     "text": [
      "13\n",
      "25\n",
      "77\n"
     ]
    }
   ],
   "source": [
    "num1 = 13\n",
    "print(num1)\n",
    "num2 = 25\n",
    "print(num2)\n",
    "num2 = 77\n",
    "print(num2)"
   ]
  },
  {
   "cell_type": "code",
   "execution_count": 16,
   "id": "04585efb",
   "metadata": {},
   "outputs": [
    {
     "name": "stdout",
     "output_type": "stream",
     "text": [
      "13 77\n"
     ]
    }
   ],
   "source": [
    "print(num1, num2)"
   ]
  },
  {
   "cell_type": "code",
   "execution_count": 17,
   "id": "e14031cf",
   "metadata": {},
   "outputs": [
    {
     "ename": "NameError",
     "evalue": "name 'num3' is not defined",
     "output_type": "error",
     "traceback": [
      "\u001b[1;31m---------------------------------------------------------------------------\u001b[0m",
      "\u001b[1;31mNameError\u001b[0m                                 Traceback (most recent call last)",
      "Input \u001b[1;32mIn [17]\u001b[0m, in \u001b[0;36m<cell line: 1>\u001b[1;34m()\u001b[0m\n\u001b[1;32m----> 1\u001b[0m \u001b[38;5;28mprint\u001b[39m(\u001b[43mnum3\u001b[49m)\n",
      "\u001b[1;31mNameError\u001b[0m: name 'num3' is not defined"
     ]
    }
   ],
   "source": [
    "print(num3)"
   ]
  },
  {
   "cell_type": "code",
   "execution_count": null,
   "id": "0a24efe1",
   "metadata": {},
   "outputs": [],
   "source": [
    "num3 = 3.1425\n",
    "print(num3)"
   ]
  },
  {
   "cell_type": "code",
   "execution_count": null,
   "id": "fd1192db",
   "metadata": {},
   "outputs": [],
   "source": [
    "num4 = 1.25\n",
    "print(num4)\n",
    "num5 = 3.0\n",
    "print(num5)"
   ]
  },
  {
   "cell_type": "code",
   "execution_count": null,
   "id": "9aac36a3",
   "metadata": {},
   "outputs": [],
   "source": [
    "print(type(num4))"
   ]
  },
  {
   "cell_type": "code",
   "execution_count": null,
   "id": "ef8e7607",
   "metadata": {},
   "outputs": [],
   "source": [
    "print(type(num1))"
   ]
  },
  {
   "cell_type": "code",
   "execution_count": null,
   "id": "16f0966e",
   "metadata": {},
   "outputs": [],
   "source": [
    "num6 = 3"
   ]
  },
  {
   "cell_type": "code",
   "execution_count": null,
   "id": "e98a0851",
   "metadata": {},
   "outputs": [],
   "source": [
    "num6 == num5"
   ]
  },
  {
   "cell_type": "code",
   "execution_count": null,
   "id": "4e2e3654",
   "metadata": {},
   "outputs": [],
   "source": [
    "string = 'Hello Python'\n",
    "print(string)"
   ]
  },
  {
   "cell_type": "code",
   "execution_count": null,
   "id": "7c2d9d3d",
   "metadata": {},
   "outputs": [],
   "source": [
    "print(f'안녕 파이썬 {string}')"
   ]
  },
  {
   "cell_type": "code",
   "execution_count": null,
   "id": "1a45c71c",
   "metadata": {},
   "outputs": [],
   "source": [
    "'나는 \"동해물과 백두산이\"라고 말했다.'\n",
    "\"this is Jane's apple\""
   ]
  },
  {
   "cell_type": "code",
   "execution_count": null,
   "id": "ea9e9b6f",
   "metadata": {},
   "outputs": [],
   "source": [
    "str1 = '\"Funny python\"'\n",
    "print(str1)\n",
    "str2 = \"Easy python\"\n",
    "print(str2)"
   ]
  },
  {
   "cell_type": "code",
   "execution_count": null,
   "id": "63450ed1",
   "metadata": {},
   "outputs": [],
   "source": [
    "print(\"\\\"Funny python\\\"\")"
   ]
  },
  {
   "cell_type": "code",
   "execution_count": null,
   "id": "199e0b08",
   "metadata": {},
   "outputs": [],
   "source": [
    "num = 1\n",
    "NUM = 2\n",
    "print(num)\n",
    "print(NUM)\n",
    "# 대소문자를 엄격하게 구분한다 ! "
   ]
  },
  {
   "cell_type": "code",
   "execution_count": null,
   "id": "0fb25241",
   "metadata": {},
   "outputs": [],
   "source": [
    "num_1 = 1\n",
    "print(num_1)\n",
    "#변수명에 _ 을 제외한 특수문자는 허용하지않음\n",
    "1a =1\n",
    "#변수명을 숫자로 시작하면 안됨 ! ! ! ! "
   ]
  },
  {
   "cell_type": "code",
   "execution_count": null,
   "id": "06069923",
   "metadata": {},
   "outputs": [],
   "source": [
    "# 키워드 및 내장함수는 변수명으로 사용할수없다\n",
    "# ex) str int float import from = ! % 등등 "
   ]
  },
  {
   "cell_type": "code",
   "execution_count": 20,
   "id": "0df45aad",
   "metadata": {
    "scrolled": true
   },
   "outputs": [
    {
     "name": "stdout",
     "output_type": "stream",
     "text": [
      "10 15\n"
     ]
    }
   ],
   "source": [
    "a, b = 10, 15  #한줄로도 선언및 초기화 가능\n",
    "print(a,b)"
   ]
  },
  {
   "cell_type": "code",
   "execution_count": 21,
   "id": "d0f541aa",
   "metadata": {},
   "outputs": [
    {
     "name": "stdout",
     "output_type": "stream",
     "text": [
      "10 10\n"
     ]
    }
   ],
   "source": [
    "a = b = 10 \n",
    "print(a,b)"
   ]
  },
  {
   "cell_type": "markdown",
   "id": "28657329",
   "metadata": {},
   "source": [
    "x에 100을 대입 y에 200을 대입한뒨 summation 에 x와 y의 합을 대입해주세요"
   ]
  },
  {
   "cell_type": "code",
   "execution_count": 22,
   "id": "2e45176f",
   "metadata": {},
   "outputs": [
    {
     "name": "stdout",
     "output_type": "stream",
     "text": [
      "300\n"
     ]
    }
   ],
   "source": [
    "x,y = 100,200\n",
    "summation = x+ y\n",
    "print(summation)"
   ]
  },
  {
   "cell_type": "code",
   "execution_count": 24,
   "id": "57f2733b",
   "metadata": {},
   "outputs": [
    {
     "data": {
      "text/plain": [
       "300"
      ]
     },
     "execution_count": 24,
     "metadata": {},
     "output_type": "execute_result"
    }
   ],
   "source": [
    "x = 200\n",
    "summation"
   ]
  },
  {
   "cell_type": "code",
   "execution_count": 26,
   "id": "48de8d19",
   "metadata": {},
   "outputs": [
    {
     "name": "stdout",
     "output_type": "stream",
     "text": [
      "Hello\n",
      "Python\n"
     ]
    }
   ],
   "source": [
    "a = \"Hello\\nPython\"\n",
    "print(a)"
   ]
  },
  {
   "cell_type": "markdown",
   "id": "50e79570",
   "metadata": {},
   "source": [
    "- 인덱싱(indexing) 무언가를 가리킨다\n",
    "    - 인덱스값 단위로 선택가능 앞에서부터는 0 뒤에서부턴 -1\n",
    "- 슬라이싱(Slicing) 무언가를 자른다 .(인덱싱과다르게 구간을 지칭함 )"
   ]
  },
  {
   "cell_type": "code",
   "execution_count": 29,
   "id": "3fe856fd",
   "metadata": {},
   "outputs": [
    {
     "data": {
      "text/plain": [
       "'M'"
      ]
     },
     "execution_count": 29,
     "metadata": {},
     "output_type": "execute_result"
    }
   ],
   "source": [
    "name = \"My name is YH\"\n",
    "name[0]"
   ]
  },
  {
   "cell_type": "code",
   "execution_count": 30,
   "id": "6fd5ae0e",
   "metadata": {},
   "outputs": [
    {
     "data": {
      "text/plain": [
       "'Y'"
      ]
     },
     "execution_count": 30,
     "metadata": {},
     "output_type": "execute_result"
    }
   ],
   "source": [
    "name[-2]"
   ]
  },
  {
   "cell_type": "code",
   "execution_count": 36,
   "id": "b570ee39",
   "metadata": {},
   "outputs": [
    {
     "name": "stdout",
     "output_type": "stream",
     "text": [
      "My\n",
      "name\n",
      "YH\n"
     ]
    }
   ],
   "source": [
    "print(name[0:2])\n",
    "print(name[3:7])\n",
    "print(name[11:13])"
   ]
  },
  {
   "cell_type": "code",
   "execution_count": 40,
   "id": "7b91981b",
   "metadata": {},
   "outputs": [
    {
     "data": {
      "text/plain": [
       "'My name is YH'"
      ]
     },
     "execution_count": 40,
     "metadata": {},
     "output_type": "execute_result"
    }
   ],
   "source": [
    "name[0:]"
   ]
  },
  {
   "cell_type": "code",
   "execution_count": 43,
   "id": "f4d6e06d",
   "metadata": {},
   "outputs": [
    {
     "data": {
      "text/plain": [
       "'H'"
      ]
     },
     "execution_count": 43,
     "metadata": {},
     "output_type": "execute_result"
    }
   ],
   "source": [
    "name[-1:]"
   ]
  },
  {
   "cell_type": "code",
   "execution_count": 44,
   "id": "fd356d80",
   "metadata": {},
   "outputs": [
    {
     "data": {
      "text/plain": [
       "'My name is YH'"
      ]
     },
     "execution_count": 44,
     "metadata": {},
     "output_type": "execute_result"
    }
   ],
   "source": [
    "name[:]"
   ]
  },
  {
   "cell_type": "code",
   "execution_count": 49,
   "id": "8d1c9c05",
   "metadata": {},
   "outputs": [
    {
     "data": {
      "text/plain": [
       "'M aei H'"
      ]
     },
     "execution_count": 49,
     "metadata": {},
     "output_type": "execute_result"
    }
   ],
   "source": [
    "name[::2]"
   ]
  },
  {
   "cell_type": "code",
   "execution_count": 50,
   "id": "a06ab67d",
   "metadata": {},
   "outputs": [
    {
     "data": {
      "text/plain": [
       "'MnesH'"
      ]
     },
     "execution_count": 50,
     "metadata": {},
     "output_type": "execute_result"
    }
   ],
   "source": [
    "name[::3]"
   ]
  },
  {
   "cell_type": "code",
   "execution_count": 51,
   "id": "b4f891b4",
   "metadata": {},
   "outputs": [
    {
     "data": {
      "text/plain": [
       "'2022.07.22 - 12:06:31'"
      ]
     },
     "execution_count": 51,
     "metadata": {},
     "output_type": "execute_result"
    }
   ],
   "source": [
    "import time \n",
    "now = time.strftime('%Y.%m.%d - %H:%M:%S')\n",
    "now"
   ]
  },
  {
   "cell_type": "code",
   "execution_count": 52,
   "id": "d2142d7d",
   "metadata": {},
   "outputs": [
    {
     "data": {
      "text/plain": [
       "str"
      ]
     },
     "execution_count": 52,
     "metadata": {},
     "output_type": "execute_result"
    }
   ],
   "source": [
    "type(now)"
   ]
  },
  {
   "cell_type": "code",
   "execution_count": 53,
   "id": "cd7144b1",
   "metadata": {},
   "outputs": [
    {
     "data": {
      "text/plain": [
       "'2022.07.22 - 12:06:31'"
      ]
     },
     "execution_count": 53,
     "metadata": {},
     "output_type": "execute_result"
    }
   ],
   "source": [
    "now[0:]"
   ]
  },
  {
   "cell_type": "markdown",
   "id": "a24796c6",
   "metadata": {},
   "source": [
    " - 연도 : 2022\n",
    " - 월일 : 07.22\n",
    " - 시각 : 12시 \n",
    " - 분초 : 0630"
   ]
  },
  {
   "cell_type": "code",
   "execution_count": 85,
   "id": "b601313c",
   "metadata": {},
   "outputs": [
    {
     "name": "stdout",
     "output_type": "stream",
     "text": [
      "연도 : 2022\n",
      "월일 : 0722\n",
      "시각 : 12시\n",
      "분초 : 06:31\n"
     ]
    }
   ],
   "source": [
    "print(f'연도 : {now[0:4]}\\n월일 : {now[5:7]}{now[8:10]}\\n시각 : {now[-8:-6]}시\\n분초 : {now[-5:]}')"
   ]
  },
  {
   "cell_type": "code",
   "execution_count": 102,
   "id": "b0a9bb04",
   "metadata": {},
   "outputs": [],
   "source": [
    "#yd_info = \"20220722Sunny\"\n",
    "#yd_info = \"20220723Cloudy\"\n",
    "yd_info = \"20220724Fog\""
   ]
  },
  {
   "cell_type": "code",
   "execution_count": 105,
   "id": "fbe112ab",
   "metadata": {},
   "outputs": [
    {
     "name": "stdout",
     "output_type": "stream",
     "text": [
      "2022 0724 Fog\n"
     ]
    }
   ],
   "source": [
    "a = yd_info[0:4]\n",
    "b = yd_info[4:8]\n",
    "c = yd_info[8:]\n",
    "print(a,b,c)"
   ]
  },
  {
   "cell_type": "markdown",
   "id": "c16ddca1",
   "metadata": {},
   "source": [
    "### 포맷팅(Formatting)\n",
    " - %를 사용하는 방법\n",
    " - format 함수를 사용하는 방법"
   ]
  },
  {
   "cell_type": "code",
   "execution_count": 110,
   "id": "a8e34f83",
   "metadata": {},
   "outputs": [
    {
     "data": {
      "text/plain": [
       "'오늘 메뉴는 김치복음밥과 우동 입니다'"
      ]
     },
     "execution_count": 110,
     "metadata": {},
     "output_type": "execute_result"
    }
   ],
   "source": [
    "# %를 사용하는 방식\n",
    "menu1 = \"김치볶음밥\"\n",
    "menu2 = \"우동\"\n",
    "\n",
    "sentence = \"오늘 메뉴는 %s과 %s 입니다\"%(menu1, menu2)\n",
    "sentence"
   ]
  },
  {
   "cell_type": "code",
   "execution_count": 112,
   "id": "48110988",
   "metadata": {},
   "outputs": [
    {
     "data": {
      "text/plain": [
       "'오늘 메뉴는 김치복음밥이고 가격은 5000원입니다'"
      ]
     },
     "execution_count": 112,
     "metadata": {},
     "output_type": "execute_result"
    }
   ],
   "source": [
    "menu = \"김치볶음밥\"\n",
    "price = 5000\n",
    "\n",
    "sentence = \"오늘 메뉴는 %s이고 가격은 %d원입니다\"%(menu, price)\n",
    "sentence"
   ]
  },
  {
   "cell_type": "code",
   "execution_count": 117,
   "id": "fa7e7f13",
   "metadata": {},
   "outputs": [
    {
     "data": {
      "text/plain": [
       "'오늘의 메뉴는 김치볶음밥 입니다.'"
      ]
     },
     "execution_count": 117,
     "metadata": {},
     "output_type": "execute_result"
    }
   ],
   "source": [
    "# format 함수를 사용하는 방식\n",
    "\n",
    "menu = \"김치볶음밥\"\n",
    "sentence = \"오늘의 메뉴는 {} 입니다.\".format(menu)\n",
    "sentence"
   ]
  },
  {
   "cell_type": "code",
   "execution_count": 119,
   "id": "752f9ba4",
   "metadata": {},
   "outputs": [
    {
     "data": {
      "text/plain": [
       "'오늘 메뉴는 김치볶음밥이고 가격은 5000원입니다'"
      ]
     },
     "execution_count": 119,
     "metadata": {},
     "output_type": "execute_result"
    }
   ],
   "source": [
    "menu = \"김치볶음밥\"\n",
    "price = 5000\n",
    "\n",
    "sentence = \"오늘 메뉴는 {}이고 가격은 {}원입니다\".format(menu, price)\n",
    "sentence"
   ]
  },
  {
   "cell_type": "code",
   "execution_count": 123,
   "id": "5b2392b9",
   "metadata": {},
   "outputs": [
    {
     "name": "stdout",
     "output_type": "stream",
     "text": [
      "오늘 메뉴는 5000이고 가격은 김치볶음밥원입니다\n",
      "오늘 메뉴는 김치볶음밥이고 가격은 김치볶음밥원입니다\n"
     ]
    }
   ],
   "source": [
    "menu = \"김치볶음밥\"\n",
    "price = 5000\n",
    "\n",
    "sentence = \"오늘 메뉴는 {1}이고 가격은 {0}원입니다\".format(menu, price)# 입력되는 순서 변경가능 중복 해서도 가능\n",
    "print(sentence)\n",
    "sentence = \"오늘 메뉴는 {0}이고 가격은 {0}원입니다\".format(menu, price)# 입력되는 순서 변경가능 중복 해서도 가능\n",
    "print(sentence)"
   ]
  },
  {
   "cell_type": "code",
   "execution_count": 124,
   "id": "468deaf1",
   "metadata": {},
   "outputs": [
    {
     "data": {
      "text/plain": [
       "'오늘의 메뉴는 김치볶음밥이고 가격은 5000원 입니다'"
      ]
     },
     "execution_count": 124,
     "metadata": {},
     "output_type": "execute_result"
    }
   ],
   "source": [
    "sentence1 = f'오늘의 메뉴는 {menu}이고 가격은 {price}원 입니다'\n",
    "sentence1"
   ]
  },
  {
   "cell_type": "markdown",
   "id": "9a7203d8",
   "metadata": {},
   "source": [
    "- 김치볶음밥은 5000원\n",
    "- 우동은 4000원 \n"
   ]
  },
  {
   "cell_type": "code",
   "execution_count": 130,
   "id": "97308149",
   "metadata": {},
   "outputs": [
    {
     "name": "stdout",
     "output_type": "stream",
     "text": [
      "김치볶음밥을 4개 우동을 3개 총 가격은 32000원 입니다\n"
     ]
    }
   ],
   "source": [
    "kimchi = \"김치볶음밥\"\n",
    "kimchi_price = 5000\n",
    "noodle = \"우동\"\n",
    "noodle_price = 4000 \n",
    "kn = 4\n",
    "nn = 3\n",
    "print(f'{kimchi}을 {kn}개 {noodle}을 {nn}개 총 가격은 {kimchi_price*kn + noodle_price*nn}원 입니다')"
   ]
  },
  {
   "cell_type": "markdown",
   "id": "fd3fb684",
   "metadata": {},
   "source": [
    "# Python is Easy~!!"
   ]
  },
  {
   "cell_type": "code",
   "execution_count": 131,
   "id": "503ca0e5",
   "metadata": {},
   "outputs": [
    {
     "data": {
      "text/plain": [
       "3"
      ]
     },
     "execution_count": 131,
     "metadata": {},
     "output_type": "execute_result"
    }
   ],
   "source": [
    "song = \"tell me tell me tetetetete tell me\"\n",
    "song.count(\"tell me\")# 해당문자열이 몇번들어갔는지 찾기"
   ]
  },
  {
   "cell_type": "code",
   "execution_count": 135,
   "id": "0ee45346",
   "metadata": {},
   "outputs": [
    {
     "data": {
      "text/plain": [
       "5"
      ]
     },
     "execution_count": 135,
     "metadata": {},
     "output_type": "execute_result"
    }
   ],
   "source": [
    "song.find(\"me\") # 있다면 제일 첫번째 값이 시작하는 인덱스 값 출력"
   ]
  },
  {
   "cell_type": "code",
   "execution_count": 137,
   "id": "64cede68",
   "metadata": {},
   "outputs": [
    {
     "data": {
      "text/plain": [
       "'TELL ME TELL ME TETETETETE TELL ME'"
      ]
     },
     "execution_count": 137,
     "metadata": {},
     "output_type": "execute_result"
    }
   ],
   "source": [
    "song.upper()"
   ]
  },
  {
   "cell_type": "code",
   "execution_count": 139,
   "id": "1e9eb058",
   "metadata": {},
   "outputs": [
    {
     "data": {
      "text/plain": [
       "'tell me tell me tetetetete tell me'"
      ]
     },
     "execution_count": 139,
     "metadata": {},
     "output_type": "execute_result"
    }
   ],
   "source": [
    "song.lower()"
   ]
  },
  {
   "cell_type": "code",
   "execution_count": 140,
   "id": "e72eab26",
   "metadata": {},
   "outputs": [
    {
     "data": {
      "text/plain": [
       "'Tell Me Tell Me Tetetetete Tell Me'"
      ]
     },
     "execution_count": 140,
     "metadata": {},
     "output_type": "execute_result"
    }
   ],
   "source": [
    "song.title()"
   ]
  },
  {
   "cell_type": "code",
   "execution_count": 143,
   "id": "d935839d",
   "metadata": {},
   "outputs": [
    {
     "data": {
      "text/plain": [
       "'tell me tell me tetetetete tell me'"
      ]
     },
     "execution_count": 143,
     "metadata": {},
     "output_type": "execute_result"
    }
   ],
   "source": [
    "song = \"                              tell me tell me tetetetete tell me                        \"\n",
    "song.strip()# 들여쓰기 없애기"
   ]
  },
  {
   "cell_type": "code",
   "execution_count": 146,
   "id": "eabba260",
   "metadata": {},
   "outputs": [
    {
     "data": {
      "text/plain": [
       "'tell me tell me tetetetete tell me                        '"
      ]
     },
     "execution_count": 146,
     "metadata": {},
     "output_type": "execute_result"
    }
   ],
   "source": [
    "song = \"                              tell me tell me tetetetete tell me                        \"\n",
    "song.lstrip() #왼쪽 공백제거"
   ]
  },
  {
   "cell_type": "code",
   "execution_count": 147,
   "id": "22dcdc60",
   "metadata": {},
   "outputs": [
    {
     "data": {
      "text/plain": [
       "'                              tell me tell me tetetetete tell me'"
      ]
     },
     "execution_count": 147,
     "metadata": {},
     "output_type": "execute_result"
    }
   ],
   "source": [
    "song = \"                              tell me tell me tetetetete tell me                        \"\n",
    "song.rstrip()#오른쪽 공백 제거"
   ]
  },
  {
   "cell_type": "code",
   "execution_count": 149,
   "id": "bfd9660e",
   "metadata": {},
   "outputs": [
    {
     "data": {
      "text/plain": [
       "['tell', 'me', 'tell', 'me', 'tetetetete', 'tell', 'me']"
      ]
     },
     "execution_count": 149,
     "metadata": {},
     "output_type": "execute_result"
    }
   ],
   "source": [
    "song = \"tell me tell me tetetetete tell me\"\n",
    "song.split(\" \")"
   ]
  },
  {
   "cell_type": "code",
   "execution_count": 151,
   "id": "4ff6a1cc",
   "metadata": {},
   "outputs": [
    {
     "data": {
      "text/plain": [
       "['나는 밥을 먹었다', '맛있었다.']"
      ]
     },
     "execution_count": 151,
     "metadata": {},
     "output_type": "execute_result"
    }
   ],
   "source": [
    "s = \"나는 밥을 먹었다. 맛있었다.\"\n",
    "s.split(\". \")"
   ]
  },
  {
   "cell_type": "code",
   "execution_count": 153,
   "id": "ad8f1d38",
   "metadata": {},
   "outputs": [
    {
     "data": {
      "text/plain": [
       "'tell him tell him tetetetete tell him'"
      ]
     },
     "execution_count": 153,
     "metadata": {},
     "output_type": "execute_result"
    }
   ],
   "source": [
    "song = \"tell me tell me tetetetete tell me\"\n",
    "song.replace(\"me\", \"him\") #왼쪽에 일치하는 값 오른쪽 값으로 변경"
   ]
  },
  {
   "cell_type": "code",
   "execution_count": 160,
   "id": "501d4b67",
   "metadata": {},
   "outputs": [
    {
     "data": {
      "text/plain": [
       "['tell', 'tell', 'tell']"
      ]
     },
     "execution_count": 160,
     "metadata": {},
     "output_type": "execute_result"
    }
   ],
   "source": [
    "import re\n",
    "t = re.compile(\"tell\")\n",
    "t.findall(song)"
   ]
  },
  {
   "cell_type": "code",
   "execution_count": 161,
   "id": "37ff49c1",
   "metadata": {},
   "outputs": [
    {
     "name": "stdout",
     "output_type": "stream",
     "text": [
      "TELL ME TELL ME TETETETETE TELL ME\n",
      "tell me tell me tetetetete tell me\n",
      "Tell Me Tell Me Tetetetete Tell Me\n"
     ]
    }
   ],
   "source": [
    "print(song.upper())\n",
    "print(song.lower())\n",
    "print(song.title())"
   ]
  },
  {
   "cell_type": "code",
   "execution_count": 162,
   "id": "1990bd1e",
   "metadata": {},
   "outputs": [
    {
     "data": {
      "text/plain": [
       "['tell ', ' tell ', ' tetetetete tell ', '']"
      ]
     },
     "execution_count": 162,
     "metadata": {},
     "output_type": "execute_result"
    }
   ],
   "source": [
    "song.split(\"me\")"
   ]
  },
  {
   "cell_type": "code",
   "execution_count": 163,
   "id": "e03a2acb",
   "metadata": {},
   "outputs": [
    {
     "data": {
      "text/plain": [
       "['', 'll me ', 'll me ', '', '', '', '', ' ', 'll me']"
      ]
     },
     "execution_count": 163,
     "metadata": {},
     "output_type": "execute_result"
    }
   ],
   "source": [
    "song.split(\"te\")"
   ]
  },
  {
   "cell_type": "code",
   "execution_count": 164,
   "id": "dd15fc2f",
   "metadata": {},
   "outputs": [
    {
     "data": {
      "text/plain": [
       "['tell me', 'll me', 'tetetete', 'll me']"
      ]
     },
     "execution_count": 164,
     "metadata": {},
     "output_type": "execute_result"
    }
   ],
   "source": [
    "song.split(\" te\")"
   ]
  },
  {
   "cell_type": "code",
   "execution_count": 166,
   "id": "04fadc88",
   "metadata": {},
   "outputs": [
    {
     "data": {
      "text/plain": [
       "'tell Him tell Him tetetetete tell Him'"
      ]
     },
     "execution_count": 166,
     "metadata": {},
     "output_type": "execute_result"
    }
   ],
   "source": [
    "song.replace(\"me\",\"Him\")"
   ]
  },
  {
   "cell_type": "code",
   "execution_count": null,
   "id": "7b01d601",
   "metadata": {},
   "outputs": [],
   "source": []
  }
 ],
 "metadata": {
  "kernelspec": {
   "display_name": "Python 3 (ipykernel)",
   "language": "python",
   "name": "python3"
  },
  "language_info": {
   "codemirror_mode": {
    "name": "ipython",
    "version": 3
   },
   "file_extension": ".py",
   "mimetype": "text/x-python",
   "name": "python",
   "nbconvert_exporter": "python",
   "pygments_lexer": "ipython3",
   "version": "3.9.12"
  }
 },
 "nbformat": 4,
 "nbformat_minor": 5
}
