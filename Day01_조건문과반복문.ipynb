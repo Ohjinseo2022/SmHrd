{
 "cells": [
  {
   "cell_type": "code",
   "execution_count": 1,
   "id": "903db5a2",
   "metadata": {},
   "outputs": [
    {
     "name": "stdout",
     "output_type": "stream",
     "text": [
      "수학점수 입력 : 50\n",
      "그외\n"
     ]
    }
   ],
   "source": [
    "math = int(input(\"수학점수 입력 : \"))\n",
    "if math%7 == 0 :\n",
    "    print(\"7의배수\")\n",
    "else:\n",
    "    print(\"그외\")"
   ]
  },
  {
   "cell_type": "markdown",
   "id": "3a1f023a",
   "metadata": {},
   "source": [
    "- 내가 가지고 있는돈을 input 으로 받는다 \n",
    "- 내가 가진돈이 1250원 이상이면 버스를 타고 ,그 외에는 걸어서 갑시다.\n",
    "- print(\"버스를 탄다 \") or print(\"걸어서 간다  \")"
   ]
  },
  {
   "cell_type": "code",
   "execution_count": 2,
   "id": "62ea5b15",
   "metadata": {},
   "outputs": [
    {
     "name": "stdout",
     "output_type": "stream",
     "text": [
      "얼마있어요 ? : 5655656\n",
      "버스를 탄다 \n"
     ]
    }
   ],
   "source": [
    "money = int(input(\"얼마있어요 ? : \"))\n",
    "if money >= 1250:\n",
    "    print(\"버스를 탄다 \")\n",
    "else:\n",
    "    print(\"걸어간다 \")"
   ]
  },
  {
   "cell_type": "markdown",
   "id": "726003ee",
   "metadata": {},
   "source": [
    "- 추석 선물세트 10,000원 \n",
    "- input 으로 몇개를 구매할지 받고. 지불할 돈을 출력을 하는데 \n",
    "- 10개 이상 사면 11개째 부터 10% 할인이 됩니다."
   ]
  },
  {
   "cell_type": "code",
   "execution_count": 10,
   "id": "eb88acfd",
   "metadata": {},
   "outputs": [
    {
     "name": "stdout",
     "output_type": "stream",
     "text": [
      "몇개 사실래요 ? -> 10\n",
      "100000원입니다\n"
     ]
    }
   ],
   "source": [
    "a = 10000\n",
    "n = int(input(\"몇개 사실래요 ? -> \"))\n",
    "if(n > 10):\n",
    "    print(f'{int((n-10)*a*0.9+10*a)}원 입니다')\n",
    "else:\n",
    "    print(f'{n*a}원입니다')"
   ]
  },
  {
   "cell_type": "code",
   "execution_count": 16,
   "id": "cf5872b0",
   "metadata": {},
   "outputs": [
    {
     "name": "stdout",
     "output_type": "stream",
     "text": [
      "지금 얼마있어요 ? :50000\n",
      "택시 ㄱㄱ\n"
     ]
    }
   ],
   "source": [
    "money = int(input(\"지금 얼마있어요 ? :\"))\n",
    "\n",
    "if money >= 3900:\n",
    "    print(\"택시 ㄱㄱ\")\n",
    "elif money >= 1250:\n",
    "    print(\"버스 ㄱㄱ\")\n",
    "else:\n",
    "    print(\"걸어간다...\")"
   ]
  },
  {
   "cell_type": "markdown",
   "id": "6fca909d",
   "metadata": {},
   "source": [
    "- 대학의 점수 체계\n",
    "- 95 점 이상 : A+\n",
    "- 90 점 이상 : A0\n",
    "- 85 점 이상 : B+\n",
    "- 80 점 이상 : B0\n",
    "- 75 점 이상 : C+\n",
    "- 그 외 : 재수강"
   ]
  },
  {
   "cell_type": "code",
   "execution_count": 19,
   "id": "74135be5",
   "metadata": {},
   "outputs": [
    {
     "name": "stdout",
     "output_type": "stream",
     "text": [
      "점수 입력 :  90\n",
      "A0 학점\n"
     ]
    }
   ],
   "source": [
    "num = int(input(\"점수 입력 :  \"))\n",
    "\n",
    "if num >=95:\n",
    "    print(\"A+ 학점\")\n",
    "elif num >=90:\n",
    "    print(\"A0 학점\")\n",
    "elif num >=85:\n",
    "    print(\"B+ 학점\")\n",
    "elif num >=80:\n",
    "    print(\"B0 학점\")\n",
    "elif num >=75:\n",
    "    print(\"C+ 학점\")\n",
    "else:\n",
    "    print(\"재수강\")"
   ]
  },
  {
   "cell_type": "code",
   "execution_count": 20,
   "id": "d4990ad7",
   "metadata": {},
   "outputs": [],
   "source": [
    "import random"
   ]
  },
  {
   "cell_type": "code",
   "execution_count": 346,
   "id": "df7cdc88",
   "metadata": {},
   "outputs": [
    {
     "data": {
      "text/plain": [
       "6.347862722224833"
      ]
     },
     "execution_count": 346,
     "metadata": {},
     "output_type": "execute_result"
    }
   ],
   "source": [
    "random.random()*6+1"
   ]
  },
  {
   "cell_type": "code",
   "execution_count": 302,
   "id": "013b0cd8",
   "metadata": {},
   "outputs": [
    {
     "data": {
      "text/plain": [
       "6.0525342105615945"
      ]
     },
     "execution_count": 302,
     "metadata": {},
     "output_type": "execute_result"
    }
   ],
   "source": [
    "random.randrange(1, 7)+random.random()"
   ]
  },
  {
   "cell_type": "markdown",
   "id": "430b17cc",
   "metadata": {},
   "source": [
    "### 가위바위보 게임 만들기 \n",
    "- 가위바위보 중하나 입력받고 \n",
    "- 컴퓨터도 랜덤으로 가위바위 보 냄 게임만들기"
   ]
  },
  {
   "cell_type": "code",
   "execution_count": null,
   "id": "e988337d",
   "metadata": {},
   "outputs": [],
   "source": []
  },
  {
   "cell_type": "code",
   "execution_count": 401,
   "id": "64a567e6",
   "metadata": {},
   "outputs": [
    {
     "name": "stdout",
     "output_type": "stream",
     "text": [
      "가위 바위 보 중 하나를 입력하세요  : 보\n",
      "유저: 보 : 컴퓨터: 바위 졌습니다.\n"
     ]
    }
   ],
   "source": [
    "player = input(\"가위 바위 보 중 하나를 입력하세요  : \")\n",
    "\n",
    "\n",
    "if player == \"가위\" or player ==\"바위\" or player == \"보\":\n",
    "    com = random.randrange(1, 4)\n",
    "    a = \"\"\n",
    "\n",
    "    if com == 1:\n",
    "        a = \"가위\"\n",
    "    elif com == 2:\n",
    "        a = \"바위\"\n",
    "    else:\n",
    "        a = \"보\"\n",
    "    if player == \"가위\":\n",
    "        if a == \"가위\":\n",
    "            print(f\"유저: {player} : 컴퓨터: {a} 비겻습니다\")\n",
    "        elif a == \"바위\":\n",
    "            print(f\"유저: {player} : 컴퓨터: {a} 졌습니다.\")\n",
    "        else:\n",
    "            print(f\"유저: {player} : 컴퓨터: {a} 이겻습니다\")\n",
    "    elif player ==\"바위\":\n",
    "        if a == \"바위\":\n",
    "            print(f\"유저: {player} : 컴퓨터: {a} 비겻습니다\")\n",
    "        elif a == \"보\":\n",
    "            print(f\"유저: {player} : 컴퓨터: {a} 졌습니다.\")\n",
    "        else:\n",
    "            print(f\"유저: {player} : 컴퓨터: {a} 이겻습니다\")\n",
    "    elif player ==\"보\":\n",
    "        if a == \"보\":\n",
    "            print(f\"유저: {player} : 컴퓨터: {a} 비겻습니다\")\n",
    "        elif a == \"바위\":\n",
    "            print(f\"유저: {player} : 컴퓨터: {a} 졌습니다.\")\n",
    "        else:\n",
    "            print(f\"유저: {player} : 컴퓨터: {a} 이겻습니다\")\n",
    "else:\n",
    "    print(\"게임종료\")\n",
    "    \n",
    "    \n"
   ]
  },
  {
   "cell_type": "markdown",
   "id": "d7006c87",
   "metadata": {},
   "source": [
    "### 아이템 강화 시스템"
   ]
  },
  {
   "cell_type": "markdown",
   "id": "a8bc7b57",
   "metadata": {},
   "source": [
    "- 입력 : 현재 강화 정도 (10강 이하)\n",
    "- 성공확률 : 기본 80% 1강화 올라갈때마다 5% 씩 떨어짐 \n",
    "- 강화 실패 시 : 70% 확률로 강화 상태 유지. 15% 강화 등급 하락 15% 확률로 아이템 파괴\n",
    "- 출력 예시 : 강화성공 ! n 강으로 올라 갔다. 혹은 강화 실패해서 n 강이 되었다 or 파괴 되었다."
   ]
  },
  {
   "cell_type": "code",
   "execution_count": 434,
   "id": "4ee4581e",
   "metadata": {},
   "outputs": [
    {
     "name": "stdout",
     "output_type": "stream",
     "text": [
      "현재 몇강화 인가요 ?5\n",
      "강화 성공 ! 현재 6강! \n",
      "현재 강화성공 확률 50%\n"
     ]
    }
   ],
   "source": [
    "rank = int(input(\"현재 몇강화 인가요 ?\"))\n",
    "a = random.randrange(0, 100)+1\n",
    "h = 80-rank*5\n",
    "\n",
    "if a <= h :\n",
    "    print(f\"강화 성공 ! 현재 {rank+1}강! \")\n",
    "    rank += 1\n",
    "    h -= 5\n",
    "    print(f\"현재 강화성공 확률 {h}%\")\n",
    "else:\n",
    "    a = random.randrange(0, 100)+1\n",
    "    if a <= 70:\n",
    "        print(f\"강화 실패! {rank}강 다행히 상태 유지되었다 !\")\n",
    "        print(f\"현재 강화성공 확률 {h}%\")\n",
    "    elif a <= 85:\n",
    "        print(f\"강화 실패로 {rank-1}강이 되었다\")\n",
    "        print(f\"현재 강화성공 확률 {h}%\")\n",
    "    else:\n",
    "        print(\"강화 실패로 장비가 파괴되었다 !\")\n",
    "        print(f\"현재 강화성공 확률 {h}%\")\n",
    "   "
   ]
  },
  {
   "cell_type": "code",
   "execution_count": 2,
   "id": "d2e17e5d",
   "metadata": {},
   "outputs": [
    {
     "name": "stdout",
     "output_type": "stream",
     "text": [
      "현재 몇강화 인가요 ?1\n",
      "실행할까요 ? 종료시 exit입력 : \n",
      "강화 성공 ! 현재 2강! \n",
      "현재 강화성공 확률 70%\n",
      "실행할까요 ? 종료시 exit입력 : \n",
      "강화 성공 ! 현재 3강! \n",
      "현재 강화성공 확률 65%\n",
      "실행할까요 ? 종료시 exit입력 : \n",
      "강화 성공 ! 현재 4강! \n",
      "현재 강화성공 확률 60%\n",
      "실행할까요 ? 종료시 exit입력 : \n",
      "강화 성공 ! 현재 5강! \n",
      "현재 강화성공 확률 55%\n",
      "실행할까요 ? 종료시 exit입력 : \n",
      "강화 성공 ! 현재 6강! \n",
      "현재 강화성공 확률 50%\n",
      "실행할까요 ? 종료시 exit입력 : \n",
      "강화 성공 ! 현재 7강! \n",
      "현재 강화성공 확률 45%\n",
      "실행할까요 ? 종료시 exit입력 : \n",
      "강화 성공 ! 현재 8강! \n",
      "현재 강화성공 확률 40%\n",
      "실행할까요 ? 종료시 exit입력 : \n",
      "강화 성공 ! 현재 9강! \n",
      "현재 강화성공 확률 35%\n",
      "실행할까요 ? 종료시 exit입력 : \n",
      "강화 성공 ! 현재 10강! \n",
      "현재 강화성공 확률 30%\n",
      "실행할까요 ? 종료시 exit입력 : \n",
      "최종 강화단계 : 10강 종료합니다\n"
     ]
    }
   ],
   "source": [
    "import random\n",
    "rank = int(input(\"현재 몇강화 인가요 ?\"))\n",
    "a = random.randrange(0, 100)+1\n",
    "while True:\n",
    "    h = 80-(rank*5)\n",
    "    h1 = 70-(rank*5)\n",
    "    go = input(\"실행할까요 ? 종료시 exit입력 : \")\n",
    "    if (go == \"exit\") or (rank == 10):\n",
    "        print(f\"최종 강화단계 : {rank}강 종료합니다\")\n",
    "        break\n",
    "    else:\n",
    "        if a <= h :\n",
    "            print(f\"강화 성공 ! 현재 {rank+1}강! \")\n",
    "            rank += 1\n",
    "            h -= 5\n",
    "            print(f\"현재 강화성공 확률 {h}%\")\n",
    "        else:\n",
    "            a = random.randrange(0, 100)+1\n",
    "            if  a <= h1:\n",
    "                print(f\"강화 실패해서 {rank}강 다행히 상태 유지되었다 !\")\n",
    "                print(f\"현재 강화성공 확률 {h}% 강화 유지확률 {h1}\")\n",
    "            elif a <= h1+15:\n",
    "                print(\"강화 실패로 장비가 파괴되었다 !\")\n",
    "                print(f\"최종 강화 단계 {rank}강\")\n",
    "                break\n",
    "            else:\n",
    "                print(f\"강화 실패로 {rank-1}강이 되었다\")\n",
    "                rank -= 1\n",
    "                print(f\"현재 강화성공 확률 {h}% 강화 유지 확률{h1}%\")"
   ]
  },
  {
   "cell_type": "code",
   "execution_count": null,
   "id": "6fa622a0",
   "metadata": {},
   "outputs": [],
   "source": []
  },
  {
   "cell_type": "code",
   "execution_count": null,
   "id": "e74df07f",
   "metadata": {},
   "outputs": [],
   "source": []
  },
  {
   "cell_type": "code",
   "execution_count": null,
   "id": "93cbba70",
   "metadata": {},
   "outputs": [],
   "source": []
  },
  {
   "cell_type": "code",
   "execution_count": null,
   "id": "7fb24062",
   "metadata": {},
   "outputs": [],
   "source": []
  }
 ],
 "metadata": {
  "kernelspec": {
   "display_name": "Python 3 (ipykernel)",
   "language": "python",
   "name": "python3"
  },
  "language_info": {
   "codemirror_mode": {
    "name": "ipython",
    "version": 3
   },
   "file_extension": ".py",
   "mimetype": "text/x-python",
   "name": "python",
   "nbconvert_exporter": "python",
   "pygments_lexer": "ipython3",
   "version": "3.9.12"
  }
 },
 "nbformat": 4,
 "nbformat_minor": 5
}
