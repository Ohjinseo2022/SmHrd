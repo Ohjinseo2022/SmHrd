{
 "cells": [
  {
   "cell_type": "code",
   "execution_count": 1,
   "id": "cfe06be5",
   "metadata": {
    "scrolled": true
   },
   "outputs": [
    {
     "data": {
      "text/plain": [
       "list"
      ]
     },
     "execution_count": 1,
     "metadata": {},
     "output_type": "execute_result"
    }
   ],
   "source": [
    "a = []\n",
    "type(a)"
   ]
  },
  {
   "cell_type": "code",
   "execution_count": 2,
   "id": "fb2cd542",
   "metadata": {},
   "outputs": [
    {
     "data": {
      "text/plain": [
       "tuple"
      ]
     },
     "execution_count": 2,
     "metadata": {},
     "output_type": "execute_result"
    }
   ],
   "source": [
    "b= ()\n",
    "type(b)"
   ]
  },
  {
   "cell_type": "markdown",
   "id": "e417acfc",
   "metadata": {},
   "source": [
    " - 리스트는 튜플과 달리 수정이 가능하다 \n",
    " 1. 원소의 추가 \n",
    " 2. 원소의 삭제\n",
    " 3. 원소의 교체 \n",
    " 4. 원소의 재정렬 (sort)"
   ]
  },
  {
   "cell_type": "markdown",
   "id": "a7225a24",
   "metadata": {},
   "source": [
    "#### 원소의 삭제"
   ]
  },
  {
   "cell_type": "code",
   "execution_count": 19,
   "id": "a15f9da1",
   "metadata": {},
   "outputs": [
    {
     "name": "stdout",
     "output_type": "stream",
     "text": [
      "[1, 2, 3, 4, 5, 7]\n"
     ]
    }
   ],
   "source": [
    "a1 = [1,2,3,4,5]\n",
    "a1.append(7)\n",
    "print(a1)\n",
    "a1.insert(1, 6) #shift tqp 누르면 간략한 메소드 사용법이나옴 \n",
    "a1\n",
    "a1.append(2)"
   ]
  },
  {
   "cell_type": "code",
   "execution_count": 2,
   "id": "7b0ce959",
   "metadata": {},
   "outputs": [],
   "source": [
    "a1.remove(6)"
   ]
  },
  {
   "cell_type": "code",
   "execution_count": 5,
   "id": "46ddabfb",
   "metadata": {},
   "outputs": [
    {
     "data": {
      "text/plain": [
       "[1, 3, 4, 5]"
      ]
     },
     "execution_count": 5,
     "metadata": {},
     "output_type": "execute_result"
    }
   ],
   "source": [
    "del a1[1]\n",
    "a1"
   ]
  },
  {
   "cell_type": "markdown",
   "id": "ae270aa6",
   "metadata": {},
   "source": [
    "#### 원소의 교체"
   ]
  },
  {
   "cell_type": "code",
   "execution_count": 8,
   "id": "47add08b",
   "metadata": {},
   "outputs": [
    {
     "data": {
      "text/plain": [
       "[7, 3, 4, 5]"
      ]
     },
     "execution_count": 8,
     "metadata": {},
     "output_type": "execute_result"
    }
   ],
   "source": [
    "a1[0] = 7  # replace는 문자열에서만 가능 함 리스트는 그냥 할당시킴\n",
    "a1"
   ]
  },
  {
   "cell_type": "markdown",
   "id": "cd813733",
   "metadata": {},
   "source": [
    "#### 원소의 재정렬"
   ]
  },
  {
   "cell_type": "code",
   "execution_count": 10,
   "id": "2a406779",
   "metadata": {},
   "outputs": [
    {
     "data": {
      "text/plain": [
       "[3, 4, 5, 7]"
      ]
     },
     "execution_count": 10,
     "metadata": {},
     "output_type": "execute_result"
    }
   ],
   "source": [
    "a1.sort() #오름차순\n",
    "a1"
   ]
  },
  {
   "cell_type": "code",
   "execution_count": 16,
   "id": "8623ca8d",
   "metadata": {},
   "outputs": [
    {
     "data": {
      "text/plain": [
       "[7, 5, 4, 3]"
      ]
     },
     "execution_count": 16,
     "metadata": {},
     "output_type": "execute_result"
    }
   ],
   "source": [
    "a1.sort(reverse =True) #내림차순\n",
    "a1"
   ]
  },
  {
   "cell_type": "code",
   "execution_count": 17,
   "id": "ac1a44a2",
   "metadata": {},
   "outputs": [
    {
     "data": {
      "text/plain": [
       "[3, 4, 5, 7]"
      ]
     },
     "execution_count": 17,
     "metadata": {},
     "output_type": "execute_result"
    }
   ],
   "source": [
    "a1.reverse()\n",
    "a1"
   ]
  },
  {
   "cell_type": "markdown",
   "id": "a0562675",
   "metadata": {},
   "source": [
    "#### 원소확인"
   ]
  },
  {
   "cell_type": "code",
   "execution_count": 22,
   "id": "c5962222",
   "metadata": {},
   "outputs": [
    {
     "data": {
      "text/plain": [
       "[1, 6, 2, 3, 4, 5, 7, 2]"
      ]
     },
     "execution_count": 22,
     "metadata": {},
     "output_type": "execute_result"
    }
   ],
   "source": [
    "2 in a1\n",
    "a1"
   ]
  },
  {
   "cell_type": "markdown",
   "id": "c97f7249",
   "metadata": {},
   "source": [
    "#### while문\n",
    "\n",
    "- 조건식이 True인 한 계속 반복실행"
   ]
  },
  {
   "cell_type": "code",
   "execution_count": 23,
   "id": "96bfe81b",
   "metadata": {},
   "outputs": [
    {
     "name": "stdout",
     "output_type": "stream",
     "text": [
      "파이썬 쉽다.\n",
      "파이썬 쉽다.\n",
      "파이썬 쉽다.\n"
     ]
    }
   ],
   "source": [
    "n = 0\n",
    "\n",
    "while n <3 :\n",
    "    print(\"파이썬 쉽다.\")\n",
    "    n +=1\n",
    "    "
   ]
  },
  {
   "cell_type": "code",
   "execution_count": 24,
   "id": "b4dd5a24",
   "metadata": {},
   "outputs": [
    {
     "data": {
      "text/plain": [
       "[2, 3, 4, 5, 1, 1, 1, 6, 7, 8, 9]"
      ]
     },
     "execution_count": 24,
     "metadata": {},
     "output_type": "execute_result"
    }
   ],
   "source": [
    "z = [1,2,3,4,5,1,1,1,6,7,8,9]\n",
    "z.remove(1)\n",
    "z"
   ]
  },
  {
   "cell_type": "code",
   "execution_count": 35,
   "id": "f62df41b",
   "metadata": {},
   "outputs": [
    {
     "name": "stdout",
     "output_type": "stream",
     "text": [
      "[2, 3, 4, 5, 6, 7, 8, 9]\n"
     ]
    },
    {
     "data": {
      "text/plain": [
       "(3, True)"
      ]
     },
     "execution_count": 35,
     "metadata": {},
     "output_type": "execute_result"
    }
   ],
   "source": [
    "while 1 in z:\n",
    "    z.remove(1)\n",
    "    \n",
    "print(z)\n",
    "\n"
   ]
  },
  {
   "cell_type": "markdown",
   "id": "c0a3f165",
   "metadata": {},
   "source": [
    "#### for문"
   ]
  },
  {
   "cell_type": "code",
   "execution_count": null,
   "id": "524678f6",
   "metadata": {},
   "outputs": [],
   "source": [
    "# for k in 인덱싱이 가능한 자료형 : ->> 문자열 , 리스트, 튜플, range(integer)\n",
    "#     실행문 작성 "
   ]
  },
  {
   "cell_type": "code",
   "execution_count": 63,
   "id": "ee4f52e4",
   "metadata": {},
   "outputs": [
    {
     "name": "stdout",
     "output_type": "stream",
     "text": [
      "[1, 1, 1, 1, 0]\n"
     ]
    }
   ],
   "source": [
    "a = [1,2,3,4,5]\n",
    "b = [1,2,3,4,6]\n",
    "c = []\n",
    "\n",
    "# for i in a:\n",
    "#     if i in b:\n",
    "#         c.append(1)\n",
    "#     else:\n",
    "#         c.append(0)\n",
    "# print(c)\n",
    "        \n",
    "for i in range(len(a)):\n",
    "    c.append(int(a[i]==b[i]))\n",
    "print(c)"
   ]
  },
  {
   "cell_type": "code",
   "execution_count": 73,
   "id": "bdd9f97d",
   "metadata": {},
   "outputs": [
    {
     "data": {
      "text/plain": [
       "<enumerate at 0x2c0b9cdc600>"
      ]
     },
     "execution_count": 73,
     "metadata": {},
     "output_type": "execute_result"
    }
   ],
   "source": [
    "a = [1,2,3,4,5]\n",
    "b = [1,2,3,4,6]\n",
    "c = []\n",
    "enumerate(a)\n"
   ]
  },
  {
   "cell_type": "code",
   "execution_count": null,
   "id": "c95082aa",
   "metadata": {},
   "outputs": [],
   "source": [
    "a = [\"가\",\"나\",\"다\",\"라\",\"마\"]\n",
    "for w, i in enumerate(a):\n",
    "{0: \"가\" ,1: \"나\" ,2: \"다\" ,3: \"라\" ,4: \"마\" }"
   ]
  },
  {
   "cell_type": "code",
   "execution_count": 83,
   "id": "4dcc653e",
   "metadata": {},
   "outputs": [
    {
     "data": {
      "text/plain": [
       "[1, 1, 1, 1, 0]"
      ]
     },
     "execution_count": 83,
     "metadata": {},
     "output_type": "execute_result"
    }
   ],
   "source": [
    "a = [1,2,3,4,5]\n",
    "b = [1,2,3,4,6]\n",
    "c = []\n",
    "# for w , i in enumerate(a):\n",
    "#     c.append(int(i == b[w]))\n",
    "# print(c)\n",
    "\n",
    "c = [int(i == b[w]) for w , i in enumerate(a)]\n",
    "c    "
   ]
  },
  {
   "cell_type": "code",
   "execution_count": 76,
   "id": "d312c684",
   "metadata": {
    "collapsed": true
   },
   "outputs": [
    {
     "name": "stdout",
     "output_type": "stream",
     "text": [
      "0 : 가\n",
      "1 : 나\n",
      "2 : 다\n",
      "3 : 라\n",
      "4 : 마\n"
     ]
    }
   ],
   "source": [
    "a = [\"가\",\"나\",\"다\",\"라\",\"마\"]\n",
    "for w, i in enumerate(a):\n",
    "    print(f\"{w} : {i}\")\n",
    "# {0: \"가\" ,1: \"나\" ,2: \"다\" ,3: \"라\" ,4: \"마\" }"
   ]
  },
  {
   "cell_type": "code",
   "execution_count": 77,
   "id": "9543bd6a",
   "metadata": {},
   "outputs": [
    {
     "data": {
      "text/plain": [
       "[2, 3, 4, 5, 6]"
      ]
     },
     "execution_count": 77,
     "metadata": {},
     "output_type": "execute_result"
    }
   ],
   "source": [
    "a = [1,2,3,4,5]\n",
    "b = []\n",
    "\n",
    "for i in a:\n",
    "    b.append(i+1)s\n",
    "    \n",
    "# b=[i+1 for i in a] 위에랑 같은뜻\n",
    "b"
   ]
  },
  {
   "cell_type": "code",
   "execution_count": 80,
   "id": "3ea6fc89",
   "metadata": {},
   "outputs": [
    {
     "data": {
      "text/plain": [
       "[1, 4, 9, 16, 25]"
      ]
     },
     "execution_count": 80,
     "metadata": {},
     "output_type": "execute_result"
    }
   ],
   "source": [
    "a = [1,2,3,4,5]\n",
    "b = []\n",
    "\n",
    "# for i in a:\n",
    "#     b.append(i**2)\n",
    "\n",
    "b = [i**2 for i in a]\n",
    "\n",
    "b"
   ]
  },
  {
   "cell_type": "markdown",
   "id": "a0f44fe4",
   "metadata": {},
   "source": [
    "#### 예외처리"
   ]
  },
  {
   "cell_type": "markdown",
   "id": "bde0cc4a",
   "metadata": {},
   "source": [
    "- try ~ except\n",
    "- raise Exception\n",
    "- except Exception ae e"
   ]
  },
  {
   "cell_type": "code",
   "execution_count": 2,
   "id": "0df8a233",
   "metadata": {},
   "outputs": [
    {
     "name": "stdout",
     "output_type": "stream",
     "text": [
      "a가 선언되지 않음\n"
     ]
    }
   ],
   "source": [
    "try:\n",
    "    print(a)\n",
    "except:\n",
    "    print(\"a가 선언되지 않음\")"
   ]
  },
  {
   "cell_type": "code",
   "execution_count": 22,
   "id": "d7faa1f9",
   "metadata": {},
   "outputs": [
    {
     "name": "stdout",
     "output_type": "stream",
     "text": [
      "0.14285714285714285\n",
      "0.16666666666666666\n",
      "0.2\n",
      "0.25\n",
      "0.3333333333333333\n",
      "0.5\n",
      "1.0\n",
      "8번째서 오류 \n",
      "0으로는 나눌수 없습니다\n",
      "-1.0\n",
      "-0.5\n"
     ]
    }
   ],
   "source": [
    "for i in range(10):\n",
    "    try:\n",
    "        print(1/(7-i))\n",
    "    except:\n",
    "        print(f\"{i+1}번째서 오류 \\n0으로는 나눌수 없습니다\")"
   ]
  },
  {
   "cell_type": "code",
   "execution_count": 16,
   "id": "002cc49d",
   "metadata": {},
   "outputs": [
    {
     "name": "stdout",
     "output_type": "stream",
     "text": [
      "30의 배수를 입력하세요 : d\n"
     ]
    },
    {
     "ename": "ValueError",
     "evalue": "invalid literal for int() with base 10: 'd'",
     "output_type": "error",
     "traceback": [
      "\u001b[1;31m---------------------------------------------------------------------------\u001b[0m",
      "\u001b[1;31mValueError\u001b[0m                                Traceback (most recent call last)",
      "Input \u001b[1;32mIn [16]\u001b[0m, in \u001b[0;36m<cell line: 1>\u001b[1;34m()\u001b[0m\n\u001b[1;32m----> 1\u001b[0m a \u001b[38;5;241m=\u001b[39m \u001b[38;5;28;43mint\u001b[39;49m\u001b[43m(\u001b[49m\u001b[38;5;28;43minput\u001b[39;49m\u001b[43m(\u001b[49m\u001b[38;5;124;43m\"\u001b[39;49m\u001b[38;5;124;43m30의 배수를 입력하세요 : \u001b[39;49m\u001b[38;5;124;43m\"\u001b[39;49m\u001b[43m)\u001b[49m\u001b[43m)\u001b[49m\n\u001b[0;32m      2\u001b[0m \u001b[38;5;28;01mif\u001b[39;00m a\u001b[38;5;241m%\u001b[39m\u001b[38;5;241m30\u001b[39m \u001b[38;5;241m!=\u001b[39m\u001b[38;5;241m0\u001b[39m:\n\u001b[0;32m      3\u001b[0m     \u001b[38;5;28;01mraise\u001b[39;00m \u001b[38;5;167;01mException\u001b[39;00m(\u001b[38;5;124m\"\u001b[39m\u001b[38;5;124m30의 배수를  입력하시라니까요 ?\u001b[39m\u001b[38;5;124m\"\u001b[39m)\n",
      "\u001b[1;31mValueError\u001b[0m: invalid literal for int() with base 10: 'd'"
     ]
    }
   ],
   "source": [
    "a = int(input(\"30의 배수를 입력하세요 : \"))\n",
    "if a%30 !=0:\n",
    "    raise Exception(\"30의 배수를  입력하시라니까요 ?\")\n",
    "else:\n",
    "    pass\n",
    "print(11)"
   ]
  },
  {
   "cell_type": "code",
   "execution_count": 19,
   "id": "7b088b9b",
   "metadata": {},
   "outputs": [
    {
     "name": "stdout",
     "output_type": "stream",
     "text": [
      "30의 배수를 입력하세요 : d\n",
      "30의 배수를 입력하라니까요 ? invalid literal for int() with base 10: 'd'\n",
      "3\n"
     ]
    }
   ],
   "source": [
    "try:\n",
    "    a= int(input(\"30의 배수를 입력하세요 : \"))\n",
    "except Exception as e:\n",
    "    print(\"30의 배수를 입력하라니까요 ?\",e) # 커스텀한 오류내용 + 원래의 오류내용 까지 출력가능 코드가 중간에 끊키지 않음 ! \n",
    "print(1+2)"
   ]
  }
 ],
 "metadata": {
  "kernelspec": {
   "display_name": "Python 3 (ipykernel)",
   "language": "python",
   "name": "python3"
  },
  "language_info": {
   "codemirror_mode": {
    "name": "ipython",
    "version": 3
   },
   "file_extension": ".py",
   "mimetype": "text/x-python",
   "name": "python",
   "nbconvert_exporter": "python",
   "pygments_lexer": "ipython3",
   "version": "3.9.12"
  }
 },
 "nbformat": 4,
 "nbformat_minor": 5
}
