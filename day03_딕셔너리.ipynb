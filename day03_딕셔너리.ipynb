{
 "cells": [
  {
   "cell_type": "code",
   "execution_count": 1,
   "id": "d3ee73dd",
   "metadata": {
    "scrolled": true
   },
   "outputs": [
    {
     "data": {
      "text/plain": [
       "dict"
      ]
     },
     "execution_count": 1,
     "metadata": {},
     "output_type": "execute_result"
    }
   ],
   "source": [
    "d = {\"key\" : \"value\"}\n",
    "type(d)"
   ]
  },
  {
   "cell_type": "code",
   "execution_count": 13,
   "id": "1e21b9fb",
   "metadata": {},
   "outputs": [],
   "source": [
    "CSB = {\"이름\" : [\"홍길동\",\"김철수\",\"박영희\",\"바둑이\"],\"성별\" : [\"남성\",\"남성\",\"여성\",\"남성\"]}"
   ]
  },
  {
   "cell_type": "code",
   "execution_count": 14,
   "id": "7475330f",
   "metadata": {},
   "outputs": [
    {
     "data": {
      "text/plain": [
       "['홍길동', '김철수', '박영희', '바둑이']"
      ]
     },
     "execution_count": 14,
     "metadata": {},
     "output_type": "execute_result"
    }
   ],
   "source": [
    "CSB[\"이름\"]"
   ]
  },
  {
   "cell_type": "code",
   "execution_count": 4,
   "id": "6d3e548f",
   "metadata": {},
   "outputs": [
    {
     "data": {
      "text/plain": [
       "{'이름들': ['홍길동', '김철수', '박영희', '바둑이'],\n",
       " '성별': ['남성', '남성', '여성', '남성'],\n",
       " '나이': [20, 16, 32, 4]}"
      ]
     },
     "execution_count": 4,
     "metadata": {},
     "output_type": "execute_result"
    }
   ],
   "source": [
    "CSB[\"나이\"] = [20,16,32,4]\n",
    "CSB"
   ]
  },
  {
   "cell_type": "code",
   "execution_count": 5,
   "id": "a222367c",
   "metadata": {},
   "outputs": [
    {
     "data": {
      "text/plain": [
       "{'이름들': ['홍길동', '김철수', '박영희', '바둑이'], '성별': ['남성', '남성', '여성', '남성']}"
      ]
     },
     "execution_count": 5,
     "metadata": {},
     "output_type": "execute_result"
    }
   ],
   "source": [
    "del CSB[\"나이\"]\n",
    "CSB"
   ]
  },
  {
   "cell_type": "code",
   "execution_count": 15,
   "id": "5dedca2c",
   "metadata": {},
   "outputs": [
    {
     "data": {
      "text/plain": [
       "dict_keys(['이름', '성별'])"
      ]
     },
     "execution_count": 15,
     "metadata": {},
     "output_type": "execute_result"
    }
   ],
   "source": [
    "CSB.keys()"
   ]
  },
  {
   "cell_type": "code",
   "execution_count": 10,
   "id": "902b031c",
   "metadata": {},
   "outputs": [
    {
     "data": {
      "text/plain": [
       "dict_values([['홍길동', '김철수', '박영희', '바둑이'], ['남성', '남성', '여성', '남성']])"
      ]
     },
     "execution_count": 10,
     "metadata": {},
     "output_type": "execute_result"
    }
   ],
   "source": [
    "CSB.values()"
   ]
  },
  {
   "cell_type": "code",
   "execution_count": 17,
   "id": "67e9da88",
   "metadata": {},
   "outputs": [
    {
     "data": {
      "text/plain": [
       "dict_items([('이름', ['홍길동', '김철수', '박영희', '바둑이']), ('성별', ['남성', '남성', '여성', '남성'])])"
      ]
     },
     "execution_count": 17,
     "metadata": {},
     "output_type": "execute_result"
    }
   ],
   "source": [
    "CSB.items()"
   ]
  },
  {
   "cell_type": "code",
   "execution_count": 16,
   "id": "11c01257",
   "metadata": {},
   "outputs": [
    {
     "name": "stdout",
     "output_type": "stream",
     "text": [
      "이름\n",
      "성별\n"
     ]
    }
   ],
   "source": [
    "for key in CSB.keys():\n",
    "    print(key)\n",
    "    "
   ]
  },
  {
   "cell_type": "code",
   "execution_count": 18,
   "id": "08de0dae",
   "metadata": {},
   "outputs": [
    {
     "name": "stdout",
     "output_type": "stream",
     "text": [
      "이름 ['홍길동', '김철수', '박영희', '바둑이']\n",
      "성별 ['남성', '남성', '여성', '남성']\n"
     ]
    }
   ],
   "source": [
    "for key, value in CSB.items():\n",
    "    print(key,value)"
   ]
  },
  {
   "cell_type": "code",
   "execution_count": 20,
   "id": "0c3a789d",
   "metadata": {},
   "outputs": [
    {
     "data": {
      "text/plain": [
       "{}"
      ]
     },
     "execution_count": 20,
     "metadata": {},
     "output_type": "execute_result"
    }
   ],
   "source": [
    "CSB.clear()\n",
    "CSB"
   ]
  },
  {
   "cell_type": "code",
   "execution_count": 40,
   "id": "1561e317",
   "metadata": {},
   "outputs": [
    {
     "name": "stdout",
     "output_type": "stream",
     "text": [
      "{'홍길동': {'수학': 99, '영어': 80, '국어': 75}, '김미정': {'영어': 67, '국어': 87, '수학': 55}, '정수진': {'수학': 67, '국어': 41, '영어': 23}, '평균': {'수학': 73, '영어': 56, '국어': 67}}\n"
     ]
    }
   ],
   "source": [
    "#내풀이\n",
    "\n",
    "score = {'홍길동': {'수학':99 , '영어':80,'국어':75},\n",
    "         '김미정': {'영어':67 , '국어':87,'수학':55},\n",
    "         '정수진': {'수학':67 , '국어':41,'영어':23},\n",
    "        }\n",
    "math = 0\n",
    "kor = 0\n",
    "eng = 0\n",
    "for v in score.values():\n",
    "    for k, i in v.items():\n",
    "        if k == '수학':\n",
    "            math += i\n",
    "        elif k == '국어':\n",
    "            kor += i\n",
    "        elif k == '영어':\n",
    "            eng += i\n",
    "score[\"평균\"] = {'수학' : int(math/3) , '영어':int(eng/3),'국어':int(kor/3)}\n",
    "print(score)    "
   ]
  },
  {
   "cell_type": "code",
   "execution_count": 39,
   "id": "968f8447",
   "metadata": {},
   "outputs": [
    {
     "data": {
      "text/plain": [
       "{'홍길동': {'수학': 99, '영어': 80, '국어': 75},\n",
       " '김미정': {'영어': 67, '국어': 87, '수학': 55},\n",
       " '정수진': {'수학': 67, '국어': 41, '영어': 23},\n",
       " '평균': {'수학': 73.66666666666667,\n",
       "  '영어': 56.666666666666664,\n",
       "  '국어': 67.66666666666667}}"
      ]
     },
     "execution_count": 39,
     "metadata": {},
     "output_type": "execute_result"
    }
   ],
   "source": [
    "## 강사님 풀이 \n",
    "\n",
    "score = {'홍길동': {'수학':99 , '영어':80,'국어':75},\n",
    "         '김미정': {'영어':67 , '국어':87,'수학':55},\n",
    "         '정수진': {'수학':67 , '국어':41,'영어':23},\n",
    "        }\n",
    "math = []\n",
    "eng = []\n",
    "kor = []\n",
    "for i in score.values():\n",
    "    math.append(i['수학'])\n",
    "    eng.append(i['영어'])\n",
    "    kor.append(i['국어'])\n",
    "score[\"평균\"] = {\"수학\" : sum(math)/len(math),\"영어\":sum(eng)/len(eng),\"국어\":sum(kor)/len(kor)}\n",
    "\n",
    "score\n"
   ]
  }
 ],
 "metadata": {
  "kernelspec": {
   "display_name": "Python 3 (ipykernel)",
   "language": "python",
   "name": "python3"
  },
  "language_info": {
   "codemirror_mode": {
    "name": "ipython",
    "version": 3
   },
   "file_extension": ".py",
   "mimetype": "text/x-python",
   "name": "python",
   "nbconvert_exporter": "python",
   "pygments_lexer": "ipython3",
   "version": "3.9.12"
  }
 },
 "nbformat": 4,
 "nbformat_minor": 5
}
