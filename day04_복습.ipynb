{
 "cells": [
  {
   "cell_type": "code",
   "execution_count": 1,
   "id": "4c467603",
   "metadata": {},
   "outputs": [],
   "source": [
    "import re"
   ]
  },
  {
   "cell_type": "markdown",
   "id": "7669fc73",
   "metadata": {},
   "source": [
    "### 정규표현식 기본함수\n",
    "- compoile\n",
    "- match\n",
    "- findall\n",
    "- search"
   ]
  },
  {
   "cell_type": "code",
   "execution_count": 2,
   "id": "890197bc",
   "metadata": {},
   "outputs": [],
   "source": [
    "a = re.compile(\"배고파\")"
   ]
  },
  {
   "cell_type": "code",
   "execution_count": 4,
   "id": "d1ac3dfc",
   "metadata": {},
   "outputs": [
    {
     "data": {
      "text/plain": [
       "re.compile(r'배고파', re.UNICODE)"
      ]
     },
     "execution_count": 4,
     "metadata": {},
     "output_type": "execute_result"
    }
   ],
   "source": [
    "a"
   ]
  },
  {
   "cell_type": "code",
   "execution_count": 5,
   "id": "2b426bd5",
   "metadata": {},
   "outputs": [
    {
     "data": {
      "text/plain": [
       "<re.Match object; span=(0, 3), match='배고파'>"
      ]
     },
     "execution_count": 5,
     "metadata": {},
     "output_type": "execute_result"
    }
   ],
   "source": [
    "a.match(\"배고파\")"
   ]
  },
  {
   "cell_type": "code",
   "execution_count": 6,
   "id": "8fa1ee30",
   "metadata": {},
   "outputs": [
    {
     "data": {
      "text/plain": [
       "<re.Match object; span=(0, 3), match='배고파'>"
      ]
     },
     "execution_count": 6,
     "metadata": {},
     "output_type": "execute_result"
    }
   ],
   "source": [
    "a.match(\"배고파 증말\")"
   ]
  },
  {
   "cell_type": "code",
   "execution_count": 8,
   "id": "1197cd75",
   "metadata": {},
   "outputs": [],
   "source": [
    "a.match(\"증말 배고파\")"
   ]
  },
  {
   "cell_type": "code",
   "execution_count": 9,
   "id": "eda5ee5e",
   "metadata": {},
   "outputs": [
    {
     "data": {
      "text/plain": [
       "<re.Match object; span=(6, 9), match='배고파'>"
      ]
     },
     "execution_count": 9,
     "metadata": {},
     "output_type": "execute_result"
    }
   ],
   "source": [
    "a.search(\"나는 어제 배고파서 조금 일찍 저녁을 먹었다.\")"
   ]
  },
  {
   "cell_type": "code",
   "execution_count": 10,
   "id": "68cc2a00",
   "metadata": {},
   "outputs": [
    {
     "data": {
      "text/plain": [
       "<re.Match object; span=(6, 9), match='배고파'>"
      ]
     },
     "execution_count": 10,
     "metadata": {},
     "output_type": "execute_result"
    }
   ],
   "source": [
    "a.search(\"나는 어제 배고파허 배고파 배고파 노래를 불렀다.\")"
   ]
  },
  {
   "cell_type": "code",
   "execution_count": 11,
   "id": "b4987362",
   "metadata": {},
   "outputs": [
    {
     "data": {
      "text/plain": [
       "['배고파', '배고파', '배고파']"
      ]
     },
     "execution_count": 11,
     "metadata": {},
     "output_type": "execute_result"
    }
   ],
   "source": [
    "a.findall(\"나는 어제 배고파허 배고파 배고파 노래를 불렀다.\")"
   ]
  },
  {
   "cell_type": "markdown",
   "id": "844fb152",
   "metadata": {},
   "source": [
    "### 정규표현식 기본 문법\n",
    "1. Dot(.) : 모든것\n",
    "2. (*) :0번 이상 반복\n",
    "3. (+) : 1번 이상 반복\n",
    "4. {m} : m번 반복\n",
    "5. {m,n} : m번 이상 n 번 이하반복\n",
    "6. ?: 있어도 되고 없어도딤"
   ]
  },
  {
   "cell_type": "code",
   "execution_count": 13,
   "id": "e7be9260",
   "metadata": {},
   "outputs": [
    {
     "name": "stdout",
     "output_type": "stream",
     "text": [
      "<re.Match object; span=(0, 3), match='배고파'>\n",
      "<re.Match object; span=(0, 3), match='배아파'>\n",
      "None\n",
      "None\n"
     ]
    }
   ],
   "source": [
    "b =re.compile(\"배.파\")\n",
    "print(b.match(\"배고파\"))\n",
    "print(b.match(\"배아파\"))\n",
    "print(b.match(\"배고고파\"))\n",
    "print(b.match(\"배파\"))"
   ]
  },
  {
   "cell_type": "code",
   "execution_count": 15,
   "id": "b5c97880",
   "metadata": {},
   "outputs": [
    {
     "name": "stdout",
     "output_type": "stream",
     "text": [
      "<re.Match object; span=(0, 2), match='배파'>\n",
      "<re.Match object; span=(0, 2), match='배파'>\n",
      "<re.Match object; span=(0, 2), match='배파'>\n"
     ]
    }
   ],
   "source": [
    "b =re.compile(\"배고*파\")\n",
    "print(b.match(\"배파\"))\n",
    "print(b.match(\"배고파\"))\n",
    "print(b.match(\"배고고파\"))\n",
    "print(b.match(\"배고고고파\"))"
   ]
  },
  {
   "cell_type": "code",
   "execution_count": 16,
   "id": "f76ba511",
   "metadata": {},
   "outputs": [
    {
     "name": "stdout",
     "output_type": "stream",
     "text": [
      "None\n",
      "<re.Match object; span=(0, 3), match='배고파'>\n",
      "<re.Match object; span=(0, 4), match='배고고파'>\n",
      "<re.Match object; span=(0, 5), match='배고고고파'>\n"
     ]
    }
   ],
   "source": [
    "b =re.compile(\"배고+파\")\n",
    "print(b.match(\"배파\"))\n",
    "print(b.match(\"배고파\"))\n",
    "print(b.match(\"배고고파\"))\n",
    "print(b.match(\"배고고고파\"))"
   ]
  },
  {
   "cell_type": "code",
   "execution_count": 17,
   "id": "1cfa60de",
   "metadata": {},
   "outputs": [
    {
     "name": "stdout",
     "output_type": "stream",
     "text": [
      "None\n",
      "None\n",
      "None\n",
      "<re.Match object; span=(0, 5), match='배고고고파'>\n"
     ]
    }
   ],
   "source": [
    "b =re.compile(\"배고{3}파\")\n",
    "print(b.match(\"배파\"))\n",
    "print(b.match(\"배고파\"))\n",
    "print(b.match(\"배고고파\"))\n",
    "print(b.match(\"배고고고파\"))"
   ]
  },
  {
   "cell_type": "code",
   "execution_count": 18,
   "id": "1e096763",
   "metadata": {},
   "outputs": [
    {
     "name": "stdout",
     "output_type": "stream",
     "text": [
      "None\n",
      "<re.Match object; span=(0, 3), match='배고파'>\n",
      "<re.Match object; span=(0, 4), match='배고고파'>\n",
      "<re.Match object; span=(0, 5), match='배고고고파'>\n"
     ]
    }
   ],
   "source": [
    "b =re.compile(\"배고{1,3}파\")\n",
    "print(b.match(\"배파\"))\n",
    "print(b.match(\"배고파\"))\n",
    "print(b.match(\"배고고파\"))\n",
    "print(b.match(\"배고고고파\"))"
   ]
  },
  {
   "cell_type": "code",
   "execution_count": 19,
   "id": "ba7b46da",
   "metadata": {},
   "outputs": [
    {
     "name": "stdout",
     "output_type": "stream",
     "text": [
      "<re.Match object; span=(0, 2), match='배파'>\n",
      "<re.Match object; span=(0, 3), match='배고파'>\n",
      "None\n",
      "None\n"
     ]
    }
   ],
   "source": [
    "b =re.compile(\"배고?파\")\n",
    "print(b.match(\"배파\"))\n",
    "print(b.match(\"배고파\"))\n",
    "print(b.match(\"배고고파\"))\n",
    "print(b.match(\"배고고고파\"))"
   ]
  },
  {
   "cell_type": "markdown",
   "id": "858a8e4b",
   "metadata": {},
   "source": [
    "### 정규표현식 기본문법 2\n",
    "1. \\d: 모든 숫자\n",
    "2. \\D: 숫자가 아닌것\n",
    "3. \\s: 공백\n",
    "4. \\S: 공백이 아닌것\n",
    "5. \\w: 알파벳 및 숫자((_)언더바는 허용)\n",
    "6. \\W: 알파벳도, 숫자도 아닌 것(특수문자)"
   ]
  },
  {
   "cell_type": "code",
   "execution_count": 24,
   "id": "bf608702",
   "metadata": {},
   "outputs": [
    {
     "name": "stdout",
     "output_type": "stream",
     "text": [
      "<re.Match object; span=(0, 1), match='1'>\n",
      "<re.Match object; span=(0, 2), match='12'>\n",
      "<re.Match object; span=(0, 4), match='1234'>\n",
      "<re.Match object; span=(0, 5), match='12345'>\n"
     ]
    }
   ],
   "source": [
    "c =re.compile(\"\\d+\")\n",
    "print(c.match(\"1\"))\n",
    "print(c.match(\"12\"))\n",
    "print(c.match(\"1234\"))\n",
    "print(c.match(\"12345\"))"
   ]
  },
  {
   "cell_type": "code",
   "execution_count": 30,
   "id": "aefe3d81",
   "metadata": {},
   "outputs": [
    {
     "name": "stdout",
     "output_type": "stream",
     "text": [
      "<re.Match object; span=(0, 1), match=' '>\n",
      "<re.Match object; span=(0, 2), match='  '>\n",
      "<re.Match object; span=(0, 3), match='   '>\n",
      "<re.Match object; span=(0, 4), match='    '>\n"
     ]
    }
   ],
   "source": [
    "c =re.compile(\"\\s+\")\n",
    "print(c.match(\" \"))\n",
    "print(c.match(\"  \"))\n",
    "print(c.match(\"   \"))\n",
    "print(c.match(\"    \"))"
   ]
  },
  {
   "cell_type": "code",
   "execution_count": 33,
   "id": "c0f2ca2c",
   "metadata": {},
   "outputs": [
    {
     "name": "stdout",
     "output_type": "stream",
     "text": [
      "<re.Match object; span=(0, 1), match='1'>\n",
      "<re.Match object; span=(0, 1), match='a'>\n",
      "<re.Match object; span=(0, 1), match='가'>\n",
      "<re.Match object; span=(0, 1), match='_'>\n"
     ]
    }
   ],
   "source": [
    "c =re.compile(\"\\w+\")\n",
    "print(c.match(\"1\"))\n",
    "print(c.match(\"a\"))\n",
    "print(c.match(\"가\"))\n",
    "print(c.match(\"_\"))"
   ]
  },
  {
   "cell_type": "markdown",
   "id": "92537e9b",
   "metadata": {},
   "source": [
    "### 정규표현식 기본 문법 3"
   ]
  },
  {
   "cell_type": "code",
   "execution_count": 38,
   "id": "46c81da6",
   "metadata": {},
   "outputs": [
    {
     "name": "stdout",
     "output_type": "stream",
     "text": [
      "<re.Match object; span=(0, 3), match='배고파'>\n",
      "<re.Match object; span=(0, 5), match='배고파고파'>\n",
      "None\n"
     ]
    }
   ],
   "source": [
    "d = re.compile(\"배(고파)+\") # () and 조건 \n",
    "print(d.match(\"배고파\"))\n",
    "print(d.match(\"배고파고파\"))\n",
    "print(d.match(\"배아파\"))"
   ]
  },
  {
   "cell_type": "code",
   "execution_count": 41,
   "id": "1f687631",
   "metadata": {},
   "outputs": [
    {
     "name": "stdout",
     "output_type": "stream",
     "text": [
      "<re.Match object; span=(0, 3), match='배고파'>\n",
      "<re.Match object; span=(0, 5), match='배고파고파'>\n",
      "<re.Match object; span=(0, 15), match='배고고고고파파파파파파파고파파'>\n"
     ]
    }
   ],
   "source": [
    "d = re.compile(\"배[고파]+\") # [] or 조건 \n",
    "print(d.match(\"배고파\"))\n",
    "print(d.match(\"배고파고파\"))\n",
    "print(d.match(\"배고고고고파파파파파파파고파파\"))"
   ]
  },
  {
   "cell_type": "code",
   "execution_count": 45,
   "id": "50941e1d",
   "metadata": {},
   "outputs": [
    {
     "name": "stdout",
     "output_type": "stream",
     "text": [
      "None\n",
      "None\n",
      "<re.Match object; span=(0, 4), match='배아프다'>\n",
      "None\n"
     ]
    }
   ],
   "source": [
    "d = re.compile(\"배[^고파]\") # [] or 조건 \n",
    "print(d.match(\"배고파\"))\n",
    "print(d.match(\"배고파고파\"))\n",
    "print(d.match(\"배아프다\"))\n",
    "print(d.match(\"배고고고고파파파파파파파고파파\"))"
   ]
  },
  {
   "cell_type": "code",
   "execution_count": 48,
   "id": "33190225",
   "metadata": {},
   "outputs": [
    {
     "name": "stdout",
     "output_type": "stream",
     "text": [
      "<re.Match object; span=(0, 1), match='ㅋ'>\n"
     ]
    }
   ],
   "source": [
    "d = re.compile(\"[a-z]\") # 구간\n",
    "d = re.compile(\"[A-z]\")\n",
    "d = re.compile(\"[0-9]\")\n",
    "d = re.compile(\"[가-힣]\")\n",
    "d = re.compile(\"[ㄱ-힣]\")\n",
    "print(d.match(\"ㅋㅋㅋ\"))"
   ]
  },
  {
   "cell_type": "markdown",
   "id": "15edaf70",
   "metadata": {},
   "source": [
    "### 여러분들이 네이버 기사를 수집했습니다.\n",
    "- article을 input으로 받앗을때, 기자 이름과 기자 이메일을 지운 문자열을 반환하는 solution함수를 정의해주세요"
   ]
  },
  {
   "cell_type": "code",
   "execution_count": 239,
   "id": "7fd99af1",
   "metadata": {},
   "outputs": [],
   "source": [
    "article = \"오늘 날씨는 덥습니다. 이창현 기자 : newdicdgus@gmail.com\""
   ]
  },
  {
   "cell_type": "code",
   "execution_count": 3,
   "id": "56bf8366",
   "metadata": {},
   "outputs": [],
   "source": [
    "import re\n",
    "def solution(instr):\n",
    "    article = instr\n",
    "    press = re.compile(\"\\.\\s.+\\s기자 :.+@.+\\.com\")  # (com|co\\.kr) findall 에서는 인식못함\n",
    "\n",
    "    p = press.findall(article)\n",
    "    p\n",
    "    for i in p:\n",
    "        article = article.replace(i,\"\")\n",
    "    article = article+\".\"\n",
    "    return article"
   ]
  },
  {
   "cell_type": "code",
   "execution_count": 5,
   "id": "6dbc3f72",
   "metadata": {},
   "outputs": [
    {
     "data": {
      "text/plain": [
       "'오늘 날씨는 덥습니다.'"
      ]
     },
     "execution_count": 5,
     "metadata": {},
     "output_type": "execute_result"
    }
   ],
   "source": [
    "a = \"오늘 날씨는 덥습니다. 이창현 기자 : newdicdgus@gmail.com\"\n",
    "\n",
    "solution(a)"
   ]
  },
  {
   "cell_type": "markdown",
   "id": "85f70336",
   "metadata": {},
   "source": [
    "#### findall\n",
    "1. 전부 찾는다.\n",
    "2. 위치를 반환하지 않는다\n",
    "3. 전역변수 (Global Variable)와 지역 변수(Local Variable)가 공존할 때 지역변수에 더민감\n",
    "\n",
    "\n",
    "### search\n",
    "1. 하나만 찾는다.\n",
    "2. 위치를 반환한다.\n",
    "3. 전역변수 (Global Variable)와 지역 변수(Local Variable)가 공존할 때 전역변수에 더민감\n"
   ]
  },
  {
   "cell_type": "code",
   "execution_count": 255,
   "id": "915f09f7",
   "metadata": {},
   "outputs": [
    {
     "name": "stdout",
     "output_type": "stream",
     "text": [
      "오늘 날씨는 덥습니다.\n"
     ]
    }
   ],
   "source": [
    "import re\n",
    "article = \"오늘 날씨는 덥습니다. 이창현 기자 : newdicdgus@gmail.com\"\n",
    "press = re.compile(\"\\.\\s.+\\s기자 :.+@.+\\.(com|co\\.kr)\")  #  findall 에서는 인식못함\n",
    "\n",
    "p = press.search(article)\n",
    "p\n",
    "print(article.rstrip(p[0])+\".\")\n",
    "\n"
   ]
  },
  {
   "cell_type": "code",
   "execution_count": 260,
   "id": "576e0e3f",
   "metadata": {},
   "outputs": [
    {
     "data": {
      "text/plain": [
       "['여대', '공대', '대학원', '상대']"
      ]
     },
     "execution_count": 260,
     "metadata": {},
     "output_type": "execute_result"
    }
   ],
   "source": [
    "univ = re.compile(\"(공|여|상)?대(학교|학원|학)?\")\n",
    "s = \"여기 여대출신, 공대출신 , 대학원 출신 , 상대출신 다 있구만!\"\n",
    "univ.search(s)\n",
    "\n",
    "s1 = s \n",
    "tokens = []\n",
    "while True:\n",
    "    try:\n",
    "        p = univ.search(s1)[0]\n",
    "        tokens.append(p)\n",
    "        s1 = s1.replace(p,\"\")\n",
    "    except:\n",
    "        break\n",
    "tokens"
   ]
  },
  {
   "cell_type": "markdown",
   "id": "50cdd12e",
   "metadata": {},
   "source": [
    "### 사용자 정의 함수"
   ]
  },
  {
   "cell_type": "code",
   "execution_count": 264,
   "id": "788dcf76",
   "metadata": {
    "collapsed": true
   },
   "outputs": [
    {
     "name": "stdout",
     "output_type": "stream",
     "text": [
      "\n",
      "Welcome to Python 3.9's help utility!\n",
      "\n",
      "If this is your first time using Python, you should definitely check out\n",
      "the tutorial on the Internet at https://docs.python.org/3.9/tutorial/.\n",
      "\n",
      "Enter the name of any module, keyword, or topic to get help on writing\n",
      "Python programs and using Python modules.  To quit this help utility and\n",
      "return to the interpreter, just type \"quit\".\n",
      "\n",
      "To get a list of available modules, keywords, symbols, or topics, type\n",
      "\"modules\", \"keywords\", \"symbols\", or \"topics\".  Each module also comes\n",
      "with a one-line summary of what it does; to list the modules whose name\n",
      "or summary contain a given string such as \"spam\", type \"modules spam\".\n",
      "\n",
      "\n",
      "You are now leaving help and returning to the Python interpreter.\n",
      "If you want to ask for help on a particular object directly from the\n",
      "interpreter, you can type \"help(object)\".  Executing \"help('string')\"\n",
      "has the same effect as typing a particular string at the help> prompt.\n",
      "help> da\n"
     ]
    }
   ],
   "source": [
    "help()"
   ]
  },
  {
   "cell_type": "code",
   "execution_count": 267,
   "id": "92438695",
   "metadata": {},
   "outputs": [
    {
     "data": {
      "text/plain": [
       "0.5462390793136255"
      ]
     },
     "execution_count": 267,
     "metadata": {},
     "output_type": "execute_result"
    }
   ],
   "source": [
    "import random\n",
    "random.random()"
   ]
  },
  {
   "cell_type": "code",
   "execution_count": 1,
   "id": "6a081fac",
   "metadata": {},
   "outputs": [],
   "source": [
    "def add(x, y):\n",
    "    return x + y"
   ]
  },
  {
   "cell_type": "code",
   "execution_count": 2,
   "id": "3c00a9bd",
   "metadata": {},
   "outputs": [
    {
     "data": {
      "text/plain": [
       "3"
      ]
     },
     "execution_count": 2,
     "metadata": {},
     "output_type": "execute_result"
    }
   ],
   "source": [
    "add(1,2)"
   ]
  },
  {
   "cell_type": "code",
   "execution_count": 8,
   "id": "7fa83cde",
   "metadata": {},
   "outputs": [],
   "source": [
    "def substract(x, y,reverse = False):\n",
    "    if reverse == False:\n",
    "        result = x - y\n",
    "    else:\n",
    "        result = y - x\n",
    "    return result"
   ]
  },
  {
   "cell_type": "code",
   "execution_count": 9,
   "id": "c51235ee",
   "metadata": {},
   "outputs": [
    {
     "data": {
      "text/plain": [
       "1"
      ]
     },
     "execution_count": 9,
     "metadata": {},
     "output_type": "execute_result"
    }
   ],
   "source": [
    "substract(1,2,reverse = True)"
   ]
  },
  {
   "cell_type": "code",
   "execution_count": 10,
   "id": "07ae6f62",
   "metadata": {},
   "outputs": [],
   "source": [
    "def add(*x):\n",
    "    return sum(x)"
   ]
  },
  {
   "cell_type": "code",
   "execution_count": 11,
   "id": "d0a81a9e",
   "metadata": {},
   "outputs": [
    {
     "data": {
      "text/plain": [
       "15"
      ]
     },
     "execution_count": 11,
     "metadata": {},
     "output_type": "execute_result"
    }
   ],
   "source": [
    "add(1,2,3,4,5)"
   ]
  },
  {
   "cell_type": "code",
   "execution_count": 2,
   "id": "9e3bc4e0",
   "metadata": {},
   "outputs": [
    {
     "data": {
      "text/plain": [
       "1"
      ]
     },
     "execution_count": 2,
     "metadata": {},
     "output_type": "execute_result"
    }
   ],
   "source": [
    "import module_test\n",
    "\n",
    "module_test.substract(1,2,reverse = True)\n"
   ]
  },
  {
   "cell_type": "markdown",
   "id": "2c9a3278",
   "metadata": {},
   "source": [
    "### class "
   ]
  },
  {
   "cell_type": "code",
   "execution_count": 2,
   "id": "e2ff570f",
   "metadata": {},
   "outputs": [],
   "source": [
    "from class_test import JSS2"
   ]
  },
  {
   "cell_type": "code",
   "execution_count": null,
   "id": "21a583bf",
   "metadata": {},
   "outputs": [],
   "source": [
    "a = JSS2()"
   ]
  },
  {
   "cell_type": "code",
   "execution_count": 11,
   "id": "097cd358",
   "metadata": {},
   "outputs": [],
   "source": []
  },
  {
   "cell_type": "code",
   "execution_count": null,
   "id": "b14f02c5",
   "metadata": {},
   "outputs": [],
   "source": []
  },
  {
   "cell_type": "code",
   "execution_count": null,
   "id": "8a85631e",
   "metadata": {},
   "outputs": [],
   "source": []
  },
  {
   "cell_type": "code",
   "execution_count": null,
   "id": "bf32a30f",
   "metadata": {},
   "outputs": [],
   "source": []
  },
  {
   "cell_type": "code",
   "execution_count": null,
   "id": "de5742d7",
   "metadata": {},
   "outputs": [],
   "source": []
  }
 ],
 "metadata": {
  "kernelspec": {
   "display_name": "Python 3 (ipykernel)",
   "language": "python",
   "name": "python3"
  },
  "language_info": {
   "codemirror_mode": {
    "name": "ipython",
    "version": 3
   },
   "file_extension": ".py",
   "mimetype": "text/x-python",
   "name": "python",
   "nbconvert_exporter": "python",
   "pygments_lexer": "ipython3",
   "version": "3.9.12"
  }
 },
 "nbformat": 4,
 "nbformat_minor": 5
}
