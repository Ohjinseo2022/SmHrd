{
 "cells": [
  {
   "cell_type": "markdown",
   "id": "5a6764c4",
   "metadata": {},
   "source": [
    "# 리스트,튜플"
   ]
  },
  {
   "cell_type": "markdown",
   "id": "8f3d9b61",
   "metadata": {},
   "source": [
    "## 리스트"
   ]
  },
  {
   "cell_type": "code",
   "execution_count": 7,
   "id": "505d1945",
   "metadata": {},
   "outputs": [
    {
     "data": {
      "text/plain": [
       "[]"
      ]
     },
     "execution_count": 7,
     "metadata": {},
     "output_type": "execute_result"
    }
   ],
   "source": [
    "a = []\n",
    "a"
   ]
  },
  {
   "cell_type": "code",
   "execution_count": 8,
   "id": "6c7c0700",
   "metadata": {},
   "outputs": [],
   "source": [
    "b = [1,2,3,4,5]\n",
    "c = [\"a\",\"b\",\"c\"]\n",
    "d = [1,2,\"a\",\"b\"]\n",
    "e = [1, \"a\",[2,\"b\"]]"
   ]
  },
  {
   "cell_type": "code",
   "execution_count": 9,
   "id": "b5dc2af2",
   "metadata": {},
   "outputs": [
    {
     "data": {
      "text/plain": [
       "'a'"
      ]
     },
     "execution_count": 9,
     "metadata": {},
     "output_type": "execute_result"
    }
   ],
   "source": [
    "c[0]"
   ]
  },
  {
   "cell_type": "code",
   "execution_count": 10,
   "id": "55022f3b",
   "metadata": {},
   "outputs": [
    {
     "data": {
      "text/plain": [
       "'c'"
      ]
     },
     "execution_count": 10,
     "metadata": {},
     "output_type": "execute_result"
    }
   ],
   "source": [
    "[\"a\",\"b\",\"c\"][2]"
   ]
  },
  {
   "cell_type": "code",
   "execution_count": 12,
   "id": "fc500bb4",
   "metadata": {},
   "outputs": [
    {
     "data": {
      "text/plain": [
       "[2, 'b']"
      ]
     },
     "execution_count": 12,
     "metadata": {},
     "output_type": "execute_result"
    }
   ],
   "source": [
    "e[2]"
   ]
  },
  {
   "cell_type": "code",
   "execution_count": 14,
   "id": "7f1f1678",
   "metadata": {},
   "outputs": [],
   "source": [
    "f = [\n",
    "    [1,2],\n",
    "    [3,4],\n",
    "    [5,6]\n",
    "]\n"
   ]
  },
  {
   "cell_type": "code",
   "execution_count": 15,
   "id": "8cf188e6",
   "metadata": {},
   "outputs": [
    {
     "data": {
      "text/plain": [
       "[1, 2]"
      ]
     },
     "execution_count": 15,
     "metadata": {},
     "output_type": "execute_result"
    }
   ],
   "source": [
    "f[0]"
   ]
  },
  {
   "cell_type": "code",
   "execution_count": 16,
   "id": "4c12bdd5",
   "metadata": {},
   "outputs": [
    {
     "data": {
      "text/plain": [
       "2"
      ]
     },
     "execution_count": 16,
     "metadata": {},
     "output_type": "execute_result"
    }
   ],
   "source": [
    "f[0][1]"
   ]
  },
  {
   "cell_type": "code",
   "execution_count": 17,
   "id": "ef5d566c",
   "metadata": {},
   "outputs": [
    {
     "data": {
      "text/plain": [
       "['b', 'c']"
      ]
     },
     "execution_count": 17,
     "metadata": {},
     "output_type": "execute_result"
    }
   ],
   "source": [
    "c[1:3]"
   ]
  },
  {
   "cell_type": "code",
   "execution_count": 18,
   "id": "0689c19b",
   "metadata": {},
   "outputs": [
    {
     "data": {
      "text/plain": [
       "'c'"
      ]
     },
     "execution_count": 18,
     "metadata": {},
     "output_type": "execute_result"
    }
   ],
   "source": [
    "c[-1]"
   ]
  },
  {
   "cell_type": "markdown",
   "id": "f9357563",
   "metadata": {},
   "source": [
    "## 튜플"
   ]
  },
  {
   "cell_type": "code",
   "execution_count": 19,
   "id": "f9bf27bb",
   "metadata": {},
   "outputs": [
    {
     "data": {
      "text/plain": [
       "tuple"
      ]
     },
     "execution_count": 19,
     "metadata": {},
     "output_type": "execute_result"
    }
   ],
   "source": [
    "a = ()\n",
    "type(a)"
   ]
  },
  {
   "cell_type": "code",
   "execution_count": 26,
   "id": "8a7d9018",
   "metadata": {},
   "outputs": [],
   "source": [
    "b = (1,2,3,4,5)\n",
    "c = (\"a\",\"b\",\"c\")\n",
    "d = (1,2,\"a\",\"b\")\n",
    "e = (1, \"a\",(2,\"b\"))"
   ]
  },
  {
   "cell_type": "code",
   "execution_count": 33,
   "id": "09879b1e",
   "metadata": {},
   "outputs": [
    {
     "name": "stdout",
     "output_type": "stream",
     "text": [
      "1 2\n"
     ]
    }
   ],
   "source": [
    "print(1 ,2) # 눈에 보이지 않지만 튜플로서 관리됨 ! "
   ]
  },
  {
   "cell_type": "code",
   "execution_count": 53,
   "id": "e80a6a59",
   "metadata": {},
   "outputs": [],
   "source": [
    "b = [1,2,3,4,5]\n",
    "c = [\"a\",\"b\",\"c\"]\n",
    "d = [1,2,\"a\",\"b\"]\n",
    "e = [1, \"a\",[2,\"b\"]]"
   ]
  },
  {
   "cell_type": "code",
   "execution_count": 57,
   "id": "ff293879",
   "metadata": {},
   "outputs": [],
   "source": [
    "b.append(4)"
   ]
  },
  {
   "cell_type": "code",
   "execution_count": 58,
   "id": "cf156462",
   "metadata": {},
   "outputs": [
    {
     "data": {
      "text/plain": [
       "[1, 2, 3, 4, 5, 4]"
      ]
     },
     "execution_count": 58,
     "metadata": {},
     "output_type": "execute_result"
    }
   ],
   "source": [
    "b"
   ]
  },
  {
   "cell_type": "code",
   "execution_count": 61,
   "id": "181f0ec4",
   "metadata": {},
   "outputs": [],
   "source": [
    "tuple_b = (1,2,3,4,5)"
   ]
  },
  {
   "cell_type": "code",
   "execution_count": 60,
   "id": "62b03ae5",
   "metadata": {},
   "outputs": [
    {
     "ename": "AttributeError",
     "evalue": "'tuple' object has no attribute 'append'",
     "output_type": "error",
     "traceback": [
      "\u001b[1;31m---------------------------------------------------------------------------\u001b[0m",
      "\u001b[1;31mAttributeError\u001b[0m                            Traceback (most recent call last)",
      "Input \u001b[1;32mIn [60]\u001b[0m, in \u001b[0;36m<cell line: 1>\u001b[1;34m()\u001b[0m\n\u001b[1;32m----> 1\u001b[0m \u001b[43mtuple_b\u001b[49m\u001b[38;5;241;43m.\u001b[39;49m\u001b[43mappend\u001b[49m(\u001b[38;5;241m5\u001b[39m)\n",
      "\u001b[1;31mAttributeError\u001b[0m: 'tuple' object has no attribute 'append'"
     ]
    }
   ],
   "source": [
    "tuple_b.append(5) # 튜플은 변경및 추가 등등이 불가능함 "
   ]
  },
  {
   "cell_type": "code",
   "execution_count": 63,
   "id": "581185ce",
   "metadata": {},
   "outputs": [],
   "source": [
    "b.insert(1 , 1.5)"
   ]
  },
  {
   "cell_type": "code",
   "execution_count": 68,
   "id": "fb7ff032",
   "metadata": {},
   "outputs": [
    {
     "data": {
      "text/plain": [
       "[1, 1.5, 2, 3, 4]"
      ]
     },
     "execution_count": 68,
     "metadata": {},
     "output_type": "execute_result"
    }
   ],
   "source": [
    "b"
   ]
  },
  {
   "cell_type": "code",
   "execution_count": 69,
   "id": "47f644cb",
   "metadata": {},
   "outputs": [],
   "source": [
    "del b[1]"
   ]
  },
  {
   "cell_type": "code",
   "execution_count": 70,
   "id": "fc7f1cda",
   "metadata": {},
   "outputs": [],
   "source": [
    "b.remove(1)"
   ]
  },
  {
   "cell_type": "code",
   "execution_count": 72,
   "id": "309d20c2",
   "metadata": {},
   "outputs": [],
   "source": [
    "b.remove(2) # 동일한 값이 있을때는 제일 처음나오는 값만 삭제됨 ! "
   ]
  },
  {
   "cell_type": "code",
   "execution_count": 73,
   "id": "ae1a0a08",
   "metadata": {},
   "outputs": [
    {
     "data": {
      "text/plain": [
       "[3, 4]"
      ]
     },
     "execution_count": 73,
     "metadata": {},
     "output_type": "execute_result"
    }
   ],
   "source": [
    "b"
   ]
  },
  {
   "cell_type": "code",
   "execution_count": 80,
   "id": "42b90d30",
   "metadata": {},
   "outputs": [],
   "source": [
    "num = [1, 7, 4, 5, 3, 2, 9]"
   ]
  },
  {
   "cell_type": "code",
   "execution_count": 81,
   "id": "133d209f",
   "metadata": {},
   "outputs": [
    {
     "data": {
      "text/plain": [
       "[1, 2, 3, 4, 5, 7, 9]"
      ]
     },
     "execution_count": 81,
     "metadata": {},
     "output_type": "execute_result"
    }
   ],
   "source": [
    "num.sort()\n",
    "num"
   ]
  },
  {
   "cell_type": "code",
   "execution_count": 85,
   "id": "b49b4988",
   "metadata": {},
   "outputs": [
    {
     "data": {
      "text/plain": [
       "[9, 7, 5, 4, 3, 2, 1]"
      ]
     },
     "execution_count": 85,
     "metadata": {},
     "output_type": "execute_result"
    }
   ],
   "source": [
    "num.sort(reverse = True)\n",
    "num"
   ]
  },
  {
   "cell_type": "code",
   "execution_count": 86,
   "id": "c1540272",
   "metadata": {},
   "outputs": [],
   "source": [
    "num = [1, 7, 4, 5, 3, 2, 9]"
   ]
  },
  {
   "cell_type": "code",
   "execution_count": 93,
   "id": "69ab290a",
   "metadata": {},
   "outputs": [
    {
     "data": {
      "text/plain": [
       "[9, 2, 3, 5, 4, 7, 1]"
      ]
     },
     "execution_count": 93,
     "metadata": {},
     "output_type": "execute_result"
    }
   ],
   "source": [
    "num.reverse()\n",
    "num"
   ]
  },
  {
   "cell_type": "markdown",
   "id": "a389d7d9",
   "metadata": {},
   "source": [
    "num.sort().reverse() == num.sort(reverse = True)"
   ]
  },
  {
   "cell_type": "code",
   "execution_count": 97,
   "id": "8bde23a0",
   "metadata": {},
   "outputs": [
    {
     "data": {
      "text/plain": [
       "'a'"
      ]
     },
     "execution_count": 97,
     "metadata": {},
     "output_type": "execute_result"
    }
   ],
   "source": [
    "c = [\"a\", \"b\", \"c\"]\n",
    "c[0]"
   ]
  },
  {
   "cell_type": "code",
   "execution_count": 98,
   "id": "f0600611",
   "metadata": {},
   "outputs": [
    {
     "data": {
      "text/plain": [
       "0"
      ]
     },
     "execution_count": 98,
     "metadata": {},
     "output_type": "execute_result"
    }
   ],
   "source": [
    "c.index(\"a\") ## 중복값이 있어도 맨앞에 있는거만 출력함 ! "
   ]
  },
  {
   "cell_type": "code",
   "execution_count": 99,
   "id": "2beeea97",
   "metadata": {},
   "outputs": [
    {
     "data": {
      "text/plain": [
       "['a', 'b']"
      ]
     },
     "execution_count": 99,
     "metadata": {},
     "output_type": "execute_result"
    }
   ],
   "source": [
    "c.pop()\n",
    "c"
   ]
  },
  {
   "cell_type": "code",
   "execution_count": 105,
   "id": "89751b78",
   "metadata": {},
   "outputs": [
    {
     "data": {
      "text/plain": [
       "2.5"
      ]
     },
     "execution_count": 105,
     "metadata": {},
     "output_type": "execute_result"
    }
   ],
   "source": [
    "d = [1,2,3,4]\n",
    "sum(d)/len(d)"
   ]
  },
  {
   "cell_type": "code",
   "execution_count": 104,
   "id": "8396bd5e",
   "metadata": {},
   "outputs": [
    {
     "data": {
      "text/plain": [
       "4"
      ]
     },
     "execution_count": 104,
     "metadata": {},
     "output_type": "execute_result"
    }
   ],
   "source": [
    "len(d)"
   ]
  },
  {
   "cell_type": "code",
   "execution_count": 106,
   "id": "32389dd0",
   "metadata": {},
   "outputs": [],
   "source": [
    "menu = [\"야채곱창\",\"족발\",\"꽈배기\",\"국밥\"]"
   ]
  },
  {
   "cell_type": "code",
   "execution_count": 107,
   "id": "aac15eed",
   "metadata": {},
   "outputs": [
    {
     "data": {
      "text/plain": [
       "False"
      ]
     },
     "execution_count": 107,
     "metadata": {},
     "output_type": "execute_result"
    }
   ],
   "source": [
    "\"떡볶이\" in menu"
   ]
  },
  {
   "cell_type": "code",
   "execution_count": 108,
   "id": "88004b1f",
   "metadata": {},
   "outputs": [
    {
     "name": "stdout",
     "output_type": "stream",
     "text": [
      "신전떡볶이로 간다 .\n"
     ]
    }
   ],
   "source": [
    "if \"떡볶이\" in menu:\n",
    "    print(\"남성시작으로 간다 \")\n",
    "else:\n",
    "    print(\"신전떡볶이로 간다 .\")"
   ]
  },
  {
   "cell_type": "code",
   "execution_count": 109,
   "id": "9bb6dc5e",
   "metadata": {},
   "outputs": [
    {
     "data": {
      "text/plain": [
       "True"
      ]
     },
     "execution_count": 109,
     "metadata": {},
     "output_type": "execute_result"
    }
   ],
   "source": [
    "\"떡볶이\" not in menu"
   ]
  },
  {
   "cell_type": "code",
   "execution_count": 110,
   "id": "255b2a92",
   "metadata": {},
   "outputs": [
    {
     "data": {
      "text/plain": [
       "range(0, 10)"
      ]
     },
     "execution_count": 110,
     "metadata": {},
     "output_type": "execute_result"
    }
   ],
   "source": [
    "bynsu = range(10)\n",
    "bynsu"
   ]
  },
  {
   "cell_type": "markdown",
   "id": "c2406057",
   "metadata": {},
   "source": [
    "range(0,10)-> [0,1,2,3,4,5,6,7,8,9]"
   ]
  },
  {
   "cell_type": "code",
   "execution_count": 112,
   "id": "1c2f8c1f",
   "metadata": {},
   "outputs": [
    {
     "data": {
      "text/plain": [
       "[0, 1, 2, 3, 4, 5, 6, 7, 8, 9]"
      ]
     },
     "execution_count": 112,
     "metadata": {},
     "output_type": "execute_result"
    }
   ],
   "source": [
    "bynsu = list(bynsu)\n",
    "bynsu"
   ]
  },
  {
   "cell_type": "code",
   "execution_count": null,
   "id": "70ff31b1",
   "metadata": {},
   "outputs": [],
   "source": []
  },
  {
   "cell_type": "code",
   "execution_count": null,
   "id": "41084daa",
   "metadata": {},
   "outputs": [],
   "source": []
  },
  {
   "cell_type": "code",
   "execution_count": null,
   "id": "9e818720",
   "metadata": {},
   "outputs": [],
   "source": []
  },
  {
   "cell_type": "code",
   "execution_count": null,
   "id": "6dda553d",
   "metadata": {},
   "outputs": [],
   "source": []
  },
  {
   "cell_type": "code",
   "execution_count": null,
   "id": "88c6e451",
   "metadata": {},
   "outputs": [],
   "source": []
  },
  {
   "cell_type": "code",
   "execution_count": null,
   "id": "c0e2b64d",
   "metadata": {},
   "outputs": [],
   "source": []
  },
  {
   "cell_type": "code",
   "execution_count": null,
   "id": "2e5e719b",
   "metadata": {},
   "outputs": [],
   "source": []
  },
  {
   "cell_type": "code",
   "execution_count": null,
   "id": "7b3edaeb",
   "metadata": {},
   "outputs": [],
   "source": []
  },
  {
   "cell_type": "code",
   "execution_count": null,
   "id": "403dee48",
   "metadata": {},
   "outputs": [],
   "source": []
  },
  {
   "cell_type": "code",
   "execution_count": null,
   "id": "b135ed6a",
   "metadata": {},
   "outputs": [],
   "source": []
  },
  {
   "cell_type": "code",
   "execution_count": null,
   "id": "945bb9fe",
   "metadata": {},
   "outputs": [],
   "source": []
  },
  {
   "cell_type": "code",
   "execution_count": null,
   "id": "c220f285",
   "metadata": {},
   "outputs": [],
   "source": []
  },
  {
   "cell_type": "code",
   "execution_count": null,
   "id": "9f591ca1",
   "metadata": {},
   "outputs": [],
   "source": []
  },
  {
   "cell_type": "code",
   "execution_count": null,
   "id": "abcfbbd4",
   "metadata": {},
   "outputs": [],
   "source": []
  },
  {
   "cell_type": "code",
   "execution_count": null,
   "id": "966726f8",
   "metadata": {},
   "outputs": [],
   "source": []
  },
  {
   "cell_type": "code",
   "execution_count": null,
   "id": "c79f54b1",
   "metadata": {},
   "outputs": [],
   "source": []
  },
  {
   "cell_type": "code",
   "execution_count": null,
   "id": "c023512c",
   "metadata": {},
   "outputs": [],
   "source": []
  },
  {
   "cell_type": "code",
   "execution_count": null,
   "id": "3af678e9",
   "metadata": {},
   "outputs": [],
   "source": []
  },
  {
   "cell_type": "code",
   "execution_count": null,
   "id": "f7a361d7",
   "metadata": {},
   "outputs": [],
   "source": []
  },
  {
   "cell_type": "code",
   "execution_count": null,
   "id": "317bf985",
   "metadata": {},
   "outputs": [],
   "source": []
  },
  {
   "cell_type": "code",
   "execution_count": null,
   "id": "cbb80c81",
   "metadata": {},
   "outputs": [],
   "source": []
  },
  {
   "cell_type": "code",
   "execution_count": null,
   "id": "4b95fafa",
   "metadata": {},
   "outputs": [],
   "source": []
  },
  {
   "cell_type": "code",
   "execution_count": null,
   "id": "40ab6b30",
   "metadata": {},
   "outputs": [],
   "source": []
  },
  {
   "cell_type": "code",
   "execution_count": null,
   "id": "9c69a75f",
   "metadata": {},
   "outputs": [],
   "source": []
  },
  {
   "cell_type": "code",
   "execution_count": null,
   "id": "e09da66f",
   "metadata": {},
   "outputs": [],
   "source": []
  },
  {
   "cell_type": "code",
   "execution_count": null,
   "id": "d53cd66a",
   "metadata": {},
   "outputs": [],
   "source": []
  },
  {
   "cell_type": "code",
   "execution_count": null,
   "id": "c7ea630e",
   "metadata": {},
   "outputs": [],
   "source": []
  },
  {
   "cell_type": "code",
   "execution_count": null,
   "id": "b88e48fe",
   "metadata": {},
   "outputs": [],
   "source": []
  },
  {
   "cell_type": "code",
   "execution_count": null,
   "id": "d9bdccae",
   "metadata": {},
   "outputs": [],
   "source": []
  },
  {
   "cell_type": "code",
   "execution_count": null,
   "id": "33bcd255",
   "metadata": {},
   "outputs": [],
   "source": []
  },
  {
   "cell_type": "code",
   "execution_count": null,
   "id": "21fdc97e",
   "metadata": {},
   "outputs": [],
   "source": []
  },
  {
   "cell_type": "code",
   "execution_count": null,
   "id": "b1b7a37a",
   "metadata": {},
   "outputs": [],
   "source": []
  },
  {
   "cell_type": "code",
   "execution_count": null,
   "id": "c0db0967",
   "metadata": {},
   "outputs": [],
   "source": []
  },
  {
   "cell_type": "code",
   "execution_count": null,
   "id": "1c73a5d5",
   "metadata": {},
   "outputs": [],
   "source": []
  },
  {
   "cell_type": "code",
   "execution_count": null,
   "id": "751fd0cc",
   "metadata": {},
   "outputs": [],
   "source": []
  },
  {
   "cell_type": "code",
   "execution_count": null,
   "id": "dc72c8ab",
   "metadata": {},
   "outputs": [],
   "source": []
  }
 ],
 "metadata": {
  "kernelspec": {
   "display_name": "Python 3 (ipykernel)",
   "language": "python",
   "name": "python3"
  },
  "language_info": {
   "codemirror_mode": {
    "name": "ipython",
    "version": 3
   },
   "file_extension": ".py",
   "mimetype": "text/x-python",
   "name": "python",
   "nbconvert_exporter": "python",
   "pygments_lexer": "ipython3",
   "version": "3.9.12"
  }
 },
 "nbformat": 4,
 "nbformat_minor": 5
}
